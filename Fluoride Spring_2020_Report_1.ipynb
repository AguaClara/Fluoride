{
  "nbformat": 4,
  "nbformat_minor": 0,
  "metadata": {
    "colab": {
      "name": "Spring 2020 Report 1.ipynb",
      "provenance": [],
      "collapsed_sections": [],
      "include_colab_link": true
    },
    "kernelspec": {
      "name": "python3",
      "display_name": "Python 3"
    }
  },
  "cells": [
    {
      "cell_type": "markdown",
      "metadata": {
        "id": "view-in-github",
        "colab_type": "text"
      },
      "source": [
        "<a href=\"https://colab.research.google.com/github/AguaClara/Fluoride-Auto/blob/master/Fluoride%20Spring_2020_Report_1.ipynb\" target=\"_parent\"><img src=\"https://colab.research.google.com/assets/colab-badge.svg\" alt=\"Open In Colab\"/></a>"
      ]
    },
    {
      "cell_type": "markdown",
      "metadata": {
        "id": "cELXBz-jJ6tu",
        "colab_type": "text"
      },
      "source": [
        "# Fluoride, Spring 2020\n",
        "\n",
        "#### Claudia Buchard, Nathan Catoera, Amber Hsu, Melissa Louie, Cindy Jin\n",
        "#### 09 March 2020\n",
        "This publication Fluoride, Spring 2020 was developed under Assistance Agreement No. SU-83695001 awarded by the U.S. Environmental Protection Agency to Cornell University. It has not been formally reviewed by EPA. The views expressed in this document are solely those of Claudia Buchard, Nathan Catoera, Amber Hsu, Melissa Louie, and Cindy Jin and do not necessarily reflect those of the Agency. EPA does not endorse any products or commercial services mentioned in this publication."
      ]
    },
    {
      "cell_type": "markdown",
      "metadata": {
        "id": "8OJBOr1XLGd6",
        "colab_type": "text"
      },
      "source": [
        "##Abstract\n",
        "\n",
        "The Fluoride Removal team has the goal of removing ionic fluoride from groundwater to below the World Health Organization mandated limit of 1.5 ppm, to make it safe for drinking. The team is currently using polyaluminum chloride to form flocs with fluoride, which is the coagulant that has been used for the duration of the team since 2016. This semester, kaolin clay is also being added, to increase the density of flocs for easier removal during the sedimentation process. The team utilizes the processes of flocculation and sedimentation in the same manner as existing AguaClara plants.\n"
      ]
    },
    {
      "cell_type": "markdown",
      "metadata": {
        "id": "jnZpcPz7LObe",
        "colab_type": "text"
      },
      "source": [
        "##Introduction\n",
        "\n",
        "The majority of AguaClara plants use surface water from rivers and mountain streams as their source. AguaClara's mission of providing access to safe drinking water for all has motivated the AguaClara team to expand and develop new goals to provide safe drinking water from groundwater sources. By analyzing the different needs associated with treating groundwater sources, AguaClara can serve a broader range of communities around the world lack access to potable water.\n",
        "At some locations where there is little to no fluoride in drinking water sources, fluoride is added to boost overall dental health (NYC DEP, 2016). However, in some areas of the world, high concentrations of fluoride exist naturally in water sources. For example, there has been moderate to high fluoride pollution in regions such as Algeria, Thailand, Ghana, India, and Iran, whose major source of drinking water comes from groundwater sources. In rural India specifically, approximately 80% of water used for drinking comes from groundwater sources (Jagtap et al, 2012). The high levels of fluoride in these regions is due to the mobile dissolution of fluorite, apatite, and topaz from weathered rocks. The detrimental effects of ingesting excess fluoride over a long-term period of time include dental, skeletal, developmental, neurological, endocrinological, reproductive, and carcinogenic issues (Bhattacharya and Samal, 2018). Therefore, the World Health Organization (WHO) considers a safe concentration of fluoride in drinking water to be no greater than 1.5 mg/L (Water-related diseases, 2016). A study by Brindha et al. that was carried out in India’s Nalgonda district found groundwater concentrations of fluoride as high as 8.8 mg/L, and determined that only around 52% of the water sampled was safe to drink, which stresses the critical need for water treatment processes that can effectively remove fluoride from groundwater sources (Brindha et al, 2010).\n",
        "\n",
        "The AguaClara team aspires to achieve fluoride removal within the recommended limit of 1.5 mg/L or lower stated by the World Health Organization. The Fluoride team, which started in Fall 2016, has used two main systems for research. The gravity system, which uses no electricity and instead relies on height differences to drive water from the influent to the effluent, was tested with the implications that it could eventually be implemented on-site for fluoride removal in the communities with excess concentrations of fluoride. The automated system, which uses pumps to drive water, was used to investigate optimal conditions for fluoride removal in an AguaClara system and to evaluate the feasibility of the design. Throughout the past few years, the Fluoride team has tested both the automated apparatus and the gravity-powered apparatus with polyaluminum chloride (PACl) and fluoride to optimize fluoride removal and achieve a residual concentration of less than 1.5 mg/L of fluoride. However, the team is currently in the process of redesigning the system using the automated apparatus, by adding kaolin clay to further reduce the amount of fluoride exiting through the effluent. \n"
      ]
    },
    {
      "cell_type": "markdown",
      "metadata": {
        "id": "0O8ZqTQ0LULR",
        "colab_type": "text"
      },
      "source": [
        "##Literature Review\n",
        "\n",
        "###Collection and Analysis of Fluoride Samples\n",
        "\n",
        "An Ion-Selective Electrode (ISE) fluoride probe is used to measure the fluoride concentration of a sample. The following quality-control procedures should be followed.\n",
        "\n",
        "ISE fluoride probes can only detect solubilized fluoride. When ions such as $Fe^{3+}$ and $Al^{3+}$ are also present in a sample of dissolved fluoride, the positive ions form complexes with fluoride that can no longer be detected by the probe [(EPA Method 9214)](https://www.epa.gov/sites/production/files/2015-12/documents/9214.pdf). This issue is particularly prevalent in the context of current AguaClara research, which uses a polyaluminum chloride coagulant that forms aluminum-fluoride complexes. To avoid inaccurate readings of fluoride in samples that contain these complexes, polyethylene containers instead of glassware should be used when working with fluoride, since fluoride can adsorb to glass. To calibrate the ISE, standards of known fluoride concentrations within the mean expected fluoride concentration to be tested should be used to form a calibration curve [(EPA Method 9214)](https://www.epa.gov/sites/production/files/2015-12/documents/9214.pdf). The standards should be re-tested after every ten measurements to ensure that the fluoride probe has not drifted from the calibration curve. The controls should also be within 10% of their known values. A control blank containing one part water and one part TISAB should be used to enhance the accuracy of experimental data. Total Ionic Strength Adjustment Buffer (TISAB) solution should be added in order to decomplex the fluoride and aluminum and to maintain a constant pH of 5-5.5 in the sample. Temperature should be kept constant with less than a 1 degree Celsius deviation [(EPA Method 9214)](https://www.epa.gov/sites/production/files/2015-12/documents/9214.pdf).\n",
        "\n",
        "###Polyaluminum Chloride (PACl) and Defluoridation\n",
        "\n",
        "One method of defluoridation for drinking water is a system that implements coagulation, flocculation, and sedimentation. Coagulation is a process that involves adding a positively charged chemical coagulant to the raw, untreated water. Once the coagulant has been sufficiently flocculated, or mixed, it begins to destabilize colloidal and dissolved particles in the raw water [(EPA, 2007)](https://oaspub.epa.gov/tdb/pages/treatment/treatmentOverview.do?treatmentProcessId=1934681921). The coagulant that is often used for defluoridation of water is polyaluminum chloride, or PACl, with the chemical formula $Al_2(OH)_3Cl_3$ [(Gebbie, 2001)](http://wioa.org.au/conference_papers/2001/pdf/paper6.pdf). PACl is a more practical choice of coagulant in comparison to other common coagulants such as aluminum sulfate, or alum, because of its ability to treat water in a larger pH range of around 5.0 to 8.0 in contrast to alum’s effective pH range of around 5.5 to 6.5. Additionally, the absence of sulfate in PACl prevents the buildup of hydrogen sulfide in wastewater, which has been known to corrode pipes and other components of the sewer system. Both PACl and alum lead to residual aluminium in the effluent water, which must then be removed to meet the 0.2 mg/L standard set by the Environmental Protection Agency. The usage of PACl, however, resulted in less residual aluminium, which further supports using PACl as the coagulant for fluoride removal instead of alum [(Dubey et. al, 2018)](https://www.sciencedirect.com/science/article/pii/S0167732218303490). However, the use of alum instead of PACl may be explored this semester as it is smaller in size, meaning it can form denser flocs. An issue in the past has been that PACl and fluoride flocs have been too similar in density to water, so are unable to settle. If denser flocs are formed, they are likely more able to settle and be removed from the stream. \n",
        "\n",
        "After PACl is added to raw water, the molecules attract dissolved fluoride ions and the mixture enters the flocculation stage of treatment. In flocculation, the destabilized particles from coagulation are encouraged to agglomerate together to form \"flocs\". There are several ways to instigate the agglomeration of these particles, with some common methods being a gentle mix, or a baffled plug-flow reactor [(EPA, 2007)](https://oaspub.epa.gov/tdb/pages/treatment/treatmentOverview.do?treatmentProcessId=1934681921). The goal of flocculation is to maximize the probability of particle interaction between destabilized matter so that these species of interest will form flocs in the reactor that have a higher density than the water around them. To reiterate, \"Aggregation requires successful collisions. Success is defined by particles attaching when they collide\" [(Weber-Shirk et al, 2018)](https://render.githubusercontent.com/view/aguaclara.github.io/Textbook/index.html). These successful collisions allow for the removal of fluoride in the sedimentation process, where the agglomerated particles are separated from the water using gravity settling or other clarification methods [(EPA, 2007)](https://oaspub.epa.gov/tdb/pages/treatment/treatmentOverview.do?treatmentProcessId=1934681921).\n",
        "\n"
      ]
    },
    {
      "cell_type": "markdown",
      "metadata": {
        "id": "OZUEeqRM9tuP",
        "colab_type": "text"
      },
      "source": [
        "###Interactions between Polymeric Aluminum Hydroxide with Fluoride\n",
        "\n",
        "A 2001 study on polyaluminum-based coagulants showed that, when hydrolyzed, the coagulants formed mono- and polymeric species [(Gebbie, 2001)](http://wioa.org.au/conference_papers/2001/pdf/paper6.pdf). The interaction between aluminum hydroxide polymer and fluoride led to the formation of several insoluble and soluble products depending on the ratio of total fluoride ion and aluminum ion concentrations, pH, and the total applied fluoride and aluminum concentrations [(Parthasarathy et al., 1986)](http://www.nrcresearchpress.com/doi/abs/10.1139/v94-310). When pH was less than 4, the predominant fluoro-complex was AlF due to the complete dissociation of polymeric aluminum. When the ratio of total fluoride ion and aluminum ion concentrations was between 0.5 and 1, fluoride precipitate was observed; this precipitate replaced some of the hydroxide ions in the aluminum hydroxide polymer. When the ratio of total fluoride ion to aluminum ion concentration was greater than 3, there is both precipitate and dissolved complexed fluoride present. It was observed that the optimal conditions for precipitating fluoride was a hydroxide-to-aluminum ratio of 2.5, a fluoride to aluminum ratio of 0.7, and a pH between 4 and 7. \n",
        "\n",
        "Fluoro-aluminum complexation was also found to exhibit pH dependence. At pH values less than 5.0, almost all fluoride existed as fluoro-aluminum complexes, inhibiting its removal by coagulation. At pH levels greater than 8.0, fluoride almost exclusively as free fluoride, indicating that hydroxide has a greater affinity for aluminum at a higher pH [(Herrboldt, 2016)](https://repositories.lib.utexas.edu/bitstream/handle/2152/39194/HERRBOLDT-THESIS-2016.pdf?sequence=1). "
      ]
    },
    {
      "cell_type": "markdown",
      "metadata": {
        "id": "6ymGSX3e9cB-",
        "colab_type": "text"
      },
      "source": [
        "### Interactions Among Fluoride, NOM, and Alum During Coagulation Process\n",
        "\n",
        "Experimental results from jar tests illuminated mechanisms of behind fluoro-aluminum complexation [(Herrboldt, 2016)](https://repositories.lib.utexas.edu/bitstream/handle/2152/39194/HERRBOLDT-THESIS-2016.pdf?sequence=1). When fluoride was present in the system with alum, the residual aluminum increased significantly, indicating that fluoride is likely forming a soluble fluoro-aluminum complex. In the removal of fluoride, the presence of natural organic matter (NOM) caused a small decrease in fluoride removal from 50.1% to 45.8%, whereas NOM removal was greatly inhibited by the presence of fluoride [(Herrboldt, 2016)](https://repositories.lib.utexas.edu/bitstream/handle/2152/39194/HERRBOLDT-THESIS-2016.pdf?sequence=1). This indicates that in the removal of fluoride, fluoride was likely outcompeting NOM for complexation with aluminum or adsorption to aluminum solids.\n",
        "\n",
        "In the precipitation of aluminum with fluoride, fluoride was predicted to act in the following manner: since fluoride is a negatively charged species, fluoride must overcome the negative charge repulsion between particles in order to allow for aggregation. In the precipitation of fluoride with aluminum, the disruption of charges due to the negative repulsion stops collisions and ultimately causes particles to be concentrated at smaller particle diameters [(Herrboldt, 2016)](https://repositories.lib.utexas.edu/bitstream/handle/2152/39194/HERRBOLDT-THESIS-2016.pdf?sequence=1). In this manner, fluoride may inhibit the aggregation of flocs by acting as a stabilizing agent or by inhibiting precipitation. It was hypothesized that fluoride prevented the growth of precipitates by inhibiting interactions between hydroxide and nearby particles. It was also hypothesized that, due to the way that fluoride can replace hydroxide in solids , the formation of aluminum hydroxide complexes would be disrupted [(Herrboldt, 2016)](https://repositories.lib.utexas.edu/bitstream/handle/2152/39194/HERRBOLDT-THESIS-2016.pdf?sequence=1)."
      ]
    },
    {
      "cell_type": "markdown",
      "metadata": {
        "id": "-NKVObzG9KB9",
        "colab_type": "text"
      },
      "source": [
        "### The Floc Blanket\n",
        "\n",
        "Floc blankets are formed in tanks where water is fed downwards into a hopper-shaped geometry displayed in Figure 1. The water is then redirected upwards, which resuspends floc particles that have settled to the bottom of the tank so they can agglomerate into a fluidized layer of flocs in the tank [(Garland et al, 2016)](http://doi.org/10.1089/ees.2015.0314). This collection of flocs, or blanket, typically rises to a point that is controlled by some type of weir or other means of particle separation from the treated water [(Gregory, 1975)](https://spiral.imperial.ac.uk/bitstream/10044/1/22645/2/Gregory-R-1977-MPhil-Thesis.pdf).\n",
        "\n",
        "<center>\n",
        "  <img src=\"https://aguaclara.github.io/Textbook/_images/diffuser_jetreverser.png\"height=\"200\">\n",
        "  \n",
        "  **Figure 1:** The inlet jet geometry that redirects water upwards and allows the formation of a floc blanket.\n",
        "  </center>\n",
        "  \n",
        "  <center>\n",
        "  <img src=\"https://aguaclara.github.io/Textbook/_images/Floc_Blanket_Floc_Hopper.png\" height = \"300\">\n",
        "  \n",
        "  **Figure 2:** A side view of a sedimentation tank. Once the floc blanket builds to the height of the floc weir on the left side of the image, excess flocs overflow into the weir instead of continuing to increase the height of the floc blanket.\n",
        "  </center>\n",
        "\n",
        "Using a floc blanket for particle removal is beneficial because, as water travels upwards through the blanket, there is an increased chance of collisions between remaining particles in the water and the particles in the floc blanket; particles in the water are then more likely to be captured by the floc blanket instead of escaping with the clean effluent. While this process greatly increases removal efficiency, it should be noted that the floc blanket does not capture all particles, because of shear forces acting on smaller flocs that prevent them from remaining attached to larger flocs.\n",
        "\n",
        "The stability and quality of the floc blanket depended on both the settling velocity of flocs and the upflow velocity through the sedimentation tank [(Su et al, 2004)](http://www.sciencedirect.com/science/article/pii/S0043135403005025). For this reason, it is important that these two aspects are controlled carefully. Studies have shown that when one of these parameters experiences fluctuations, floc blankets can fail to function as intended, which may subsequently lead to poor effluent water quality [(Su et al, 2004)](http://www.sciencedirect.com/science/article/pii/S0043135403005025). In one case, a clarifier in Taiwan lost its entire floc blanket during a period of low turbidity measurements in the influent raw water [(Lin et al, 2004)](https://ascelibrary.org/doi/10.1061/%28ASCE%290733-9372%282004%29130%3A12%281481%29). Furthermore, the conditions must be maintained to allow for the resuspension of agglomerated flocs into the fluidized bed, but not to a superfluous degree where flocs would be torn apart by high shear forces [(Garland et al, 2016)](http://doi.org/10.1089/ees.2015.0314)."
      ]
    },
    {
      "cell_type": "markdown",
      "metadata": {
        "id": "nVQS_vlE9L0X",
        "colab_type": "text"
      },
      "source": [
        "### Langmuir Isotherm\n",
        "\n",
        "The Langmuir isotherm is a model used to describe the adsorption process, in which a chemical species of interest (the adsorbate) is attracted to the surface of a solid (adsorbent). The two then attach by a physical or chemical bond [(Foo and Hameed, 2010)](https://doi.org/10.1016/j.cej.2009.09.013). These models allow for the delineation of relationships between the pollutant of interest and the adsorbent being used, and are thus very useful in giving a visual representation of adsorption efficiency based on specific experimental conditions [(Foo and Hameed, 2010)](https://doi.org/10.1016/j.cej.2009.09.013).\n",
        "\n",
        "The Langmuir isotherm is governed by the following equation [(Foo and Hameed, 2010)](https://doi.org/10.1016/j.cej.2009.09.013):\n",
        "\n",
        "\n",
        "$$q_E=\\frac{Q^0 bC_e}{1+bC_e}$$\n",
        "\n",
        "$q_E$ = Uptake (mg Fluoride/g PACl)\n",
        "$Q^0$ = Maximum adsorption density (mg/L Fluoride)\n",
        "$b$ = Langmuir constant\n",
        "$C_e$ = Effluent Fluoride Concentration (mg/L Fluoride)\n",
        "\n",
        "Past AguaClara fluoride teams used an isotherm to model the relationship between the mass of fluoride absorbed (mg) per gram of PACl used and the effluent concentration of fluoride (mg/L). In this instance, fluoride is the pollutant of interest, and PACl can be considered the adsorbent material. The most recent version of this isotherm model can be seen below in Figure 3.\n",
        "\n",
        "<center>\n",
        "  <img src=\"https://raw.githubusercontent.com/AguaClara/Fluoride-Auto/master/Spring%202019/Langmuir%20Isotherm%20Data/isotherm.png\">\n",
        "  \n",
        "**Figure 3:**  Langmuir isotherm model developed by the Spring 2019 Fluoride Automated team.\n",
        "</center>\n",
        "The goal of using the isotherm is to optimize the uptake of fluoride, or efficiency of the PACl. Ideally, this model would indicate an accurate dosage of PACl for a detected influent concentration of fluoride that could lower the effluent fluoride concentration to a level below the WHO standard of 1.5 mg/L for drinking water."
      ]
    },
    {
      "cell_type": "markdown",
      "metadata": {
        "id": "BQWKq71G-DJV",
        "colab_type": "text"
      },
      "source": [
        "###Clay\n",
        "\n",
        "Clay has been used in the flocculation and sedimentation processes of water treatment as a way to make flocs form and settle more rapidly. Clays can be added to water with low concentrations of contaminants as a coagulant aid. These negatively charged particles, often bentonite or kaolinite, are destabilized by coagulants such as PACl or alum and become part of the flocs. They are successful due to their high cation exchange capacity and large surface area [(Louzao et al, 2015)](https://www.ncbi.nlm.nih.gov/pmc/articles/PMC4626715/#B24-toxins-07-03977). Clay is typically 5 $\\mu m$ in diameter, allowing it to collide with more contaminants and coagulants and create flocs with a larger volume. Additionally, the density of clay is 2650 $\\frac{kg}{m^3}$, which is slightly larger than that of typical coagulant nanoparticles at a maximum of 2300 $\\frac{kg}{m^3}$. The addition of clay particles also appears to strengthen the floc. Having larger, more dense flocs will increase their settling velocity, making them more likely to be captured during sedimentation [(MWH’s Water Treatment, 2012)](https://onlinelibrary.wiley.com/doi/pdf/10.1002/9781118131473). \n",
        "\n",
        "The dosing of the concentration of clay added to a water being treated is critical in the success. Having too low of a concentration reduces the amount of possible collisions between particles, meaning the flocs will not be large and the overall turbidity will be increased. Too much will make all of the clay difficult to remove. The AguaClara team has previously not added enough clay, so now intends to test new concentrations to see how successful it will be in fluoride removal."
      ]
    },
    {
      "cell_type": "markdown",
      "metadata": {
        "id": "x_sOwj5yLd8X",
        "colab_type": "text"
      },
      "source": [
        "##Previous Work\n",
        "\n",
        "The AguaClara Fluoride team began in Fall 2016 after receiving an EPA Phase II grant in Spring 2016 [Cheng et. al., 2016](https://drive.google.com/file/d/0Bzej1vulT_XyWHZyLXdIWlk1RkE/view). The team focused on removing particles with a floc blanket, using PACl and running tests with red dye in place of fluoride so that turbidity and visual observation could be used to gauge particle removal. \n",
        "\n",
        "The Spring 2017 team introduced clay in the system in order to observe the invisible particles, but stopped using clay after noticing high levels of turbidity in the effluent in Summer 2017. Using high concentrations of PACl (25 mg/L), the team was able to produce an effluent with a concentration of as low as 0.05 mg/L.\n",
        "\n",
        "The Summer 2019 team conducted experiments with constant fluoride concentrations and varying PACl concentrations [Jin et al., 2019](https://github.com/AguaClara/Fluoride-Auto/blob/master/Summer%202019/Summer_2019_Final_Report.ipynb). Clay was also reintroduced into the system, but was again determined to be unnecessary for fluoride removal. The team also made changes to the lab apparatus, the main change being the addition of a flow accumulator. The flow accumulator is a bottle that uses constant internal air pressure to facilitate the flow of water out of the bottle, free of pulsations from the pump, which had been an issue in the past. In the initial tests that the Summer 2019 team ran, flocs seemed to be accumulating on the plate settlers above the weir, so the team increased the angle of the bend to 70° in an attempt to allow the flocs to slide down more easily. This change effectively prevented the accumulation of flocs on the plate settlers. Additionally, the team made the Automated and Gravity systems uniform by fabricating two identical sedimentation tubes, both with the weir on the plate settler section. \n",
        "\n",
        "The Fall 2019 team observed the steady state of turbidity and focused on investigations regarding the relationship between steady-state turbidity and PACl concentration [Huang et. al., 2019](https://github.com/AguaClara/Fluoride-Auto/blob/master/Fall%202019/Fluoride_Fall_2019_Report.ipynb). The results suggest higher levels of flocculation with increasing PACl concentration and suboptimal uptake of fluoride by flocculation. The team also conducted capture velocity experiments to obtain an optimal capture velocity to be utilized in the sedimentation tube for the flocs to exit through the waste. The team conjectured the adhering of PACl to the wall of the flocculator as a potential reason of inefficient fluoride removal. Ultimately, the team hoped to determine the parameters of greater fluoride to PACl binding to increase the efficiency."
      ]
    },
    {
      "cell_type": "markdown",
      "metadata": {
        "id": "XBEZMa3-Luja",
        "colab_type": "text"
      },
      "source": [
        "##Methods\n"
      ]
    },
    {
      "cell_type": "markdown",
      "metadata": {
        "id": "0MfrmKw5L4y5",
        "colab_type": "text"
      },
      "source": [
        "##Experimental Apparatus\n",
        "\n",
        "<center>\n",
        "<img src=\"https://raw.githubusercontent.com/AguaClara/Fluoride-Auto/master/Spring%202020/Images/Lab%20Bench%20Set%20Up.png\" height = 400 width=500>\n",
        "\n",
        "**Figure 1:**  Lab Bench Set-Up for the Clay Experiment"
      ]
    },
    {
      "cell_type": "markdown",
      "metadata": {
        "id": "9XKft4OirgtF",
        "colab_type": "text"
      },
      "source": [
        "###Clay Experiment\n",
        "\n",
        "Previously, the Spring 2016 Team and the Summer 2019 tested the addition of clay into the system in order to help improve the removal of fluoride in the system. \n",
        "The Spring 2016 Team decided that the addition of clay was not a necessary component in their system, due to the fact that the added clay caused the effluent turbidity to rise, while not aiding in the removal of fluoride. The Summer 2019 Team also determined that the addition of clay into the system was not necessary, as the trials with no clay in the system did similarly or better than the ones with clay in the system.\n",
        "\n",
        "This semester, the subteam decided to revisit these clay experiments with the goal of increasing floc density. Denser flocs should be easier to remove in the sedimentation process, leading to fewer flocs escaping into the effluent.\n",
        "\n",
        "This semester, one of the things that our subteam is revisiting is the clay experiment. Previously, both subteams only tested the inclusion of clay with the same dosages as PACl and fluoride. This semester, our subteam is planning on testing the effects of the addition of clay into the system with the same and greater dosage as PACl and fluoride. \n"
      ]
    },
    {
      "cell_type": "markdown",
      "metadata": {
        "id": "PVEHO3aXL5Zz",
        "colab_type": "text"
      },
      "source": [
        "##Materials\n",
        "\n",
        "* Four 0-50 RPM Golander pumps\n",
        "* Flexible and hard 0.635 cm (1/4\") tubing and Microbore tubing\n",
        "One Turbidimeter\n",
        "* Two Fluoride Ion Selective Electrode (ISE) Probe (VWR International, Catalog No. BK511141 (EA))\n",
        "  * Access the general manual [here](https://github.com/AguaClara/Fluoride-Auto/blob/master/Spring%202019/Resources/Fluoride%20Probe%20Manual.pdf).\n",
        "  * Access the comprehensive manual [here](https://github.com/AguaClara/Fluoride-Auto/blob/master/Spring%202019/Resources/Fluoride%20Selective%20Electrode%20Comprehensive%20Manual.pdf).\n",
        "* 1\" and 3/4\" clear Polyvinyl Chloride, or PVC (McMaster Carr)\n",
        "* One Bottom Geometry (High Rate Sedimentation Bottom Geometry team)\n",
        "* 5 g/L Polyaluminum Chloride (PACl) Stock Solution\n",
        "* 5 mg/L Clay Stock Solution\n",
        "* 1 mg/L Fluoride Stock Solution\n",
        "* Connectors and buckets for stock tanks\n",
        "* 4 bottles for PACl, Clay, and Fluoride stock and flow accumulator\n"
      ]
    },
    {
      "cell_type": "markdown",
      "metadata": {
        "id": "rlQo4lwUjkWV",
        "colab_type": "text"
      },
      "source": [
        "#References\n",
        "Bhattacharya, P., & Samal, A. (2018, April). Fluoride contamination in groundwater, soil and cultivated foodstuffs of\n",
        "India and its associated health risks: A Review. Research Journal of Recent Sciences, 7(4),36-47. Retrieved from http://www.isca.in/rjrs/archive/v7/i4/6.ISCA-RJRS-2018-028.pdf.\n",
        "\n",
        "Brindha, K., Rajesh, R., Murugan, R., & Elango, L. (2010, February 20). Fluoride contamination in groundwater in parts of Nalgonda District, Andhra Pradesh, India. Retrieved from https://link.springer.com/article/10.1007/s10661-010-1348-0\n",
        "\n",
        "Jagtap, S., Yenkie M. K., Labhsetwar N., and Rayalu S. Chemical Reviews 2012 112 (4), 2454-2466\n",
        "DOI: 10.1021/cr2002855. Retrieved from https://pubs.acs.org/doi/pdf/10.1021/cr2002855.\n",
        "\n",
        "United States, NYC Environmental Protection. (2016). New York City 2016 Drinking Water Supply and Quality Report. New York. Retrieved from http://www.nyc.gov/html/dep/pdf/wsstate16.pdf.\n",
        "\n",
        "World Health Organization. (2016, August 29). Water-related diseases. Retrieved from http://www.who.int/water_sanitation_health/diseases-risks/diseases/fluorosis/en/.\n",
        "\n",
        "\n"
      ]
    }
  ]
}