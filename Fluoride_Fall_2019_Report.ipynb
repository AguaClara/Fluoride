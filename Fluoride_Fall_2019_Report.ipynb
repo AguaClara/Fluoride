{
  "nbformat": 4,
  "nbformat_minor": 0,
  "metadata": {
    "colab": {
      "name": "Fluoride Fall 2019 Report.ipynb",
      "provenance": [],
      "collapsed_sections": [],
      "include_colab_link": true
    },
    "kernelspec": {
      "name": "python3",
      "display_name": "Python 3"
    }
  },
  "cells": [
    {
      "cell_type": "markdown",
      "metadata": {
        "id": "view-in-github",
        "colab_type": "text"
      },
      "source": [
        "<a href=\"https://colab.research.google.com/github/AguaClara/Fluoride-Auto/blob/master/Fluoride_Fall_2019_Report.ipynb\" target=\"_parent\"><img src=\"https://colab.research.google.com/assets/colab-badge.svg\" alt=\"Open In Colab\"/></a>"
      ]
    },
    {
      "cell_type": "markdown",
      "metadata": {
        "id": "awle31N5ykbr",
        "colab_type": "text"
      },
      "source": [
        "# Fluoride, Fall 2019\n",
        "#### Sarah Huang, Cindy Jin, Melissa Louie, Emily Yueh\n",
        "#### 24 November 2019\n",
        "\n",
        "This publication Fluoride, Spring 2019 was developed under Assistance Agreement No. SU-83695001 awarded by the U.S. Environmental Protection Agency to Cornell University. It has not been formally reviewed by EPA. The views expressed in this document are solely those of Cindy Jin, Sarah Huang, Melissa Louie, and Emily Yueh and do not necessarily reflect those of the Agency. EPA does not endorse any products or commercial services mentioned in this publication.\n"
      ]
    },
    {
      "cell_type": "markdown",
      "metadata": {
        "id": "lGzNCdLa1f38",
        "colab_type": "text"
      },
      "source": [
        "##Abstract\n",
        "The World Health Organization estimates that globally over one million people face adverse health consequences due to fluoride contamination of drinking water. The current state of fluoride removal technology is not suitable for water treatment plants, and continuous fluoride removal systems do not exist. The Fluoride team aims to develop a cheap and efficient apparatus to reduce ionic fluoride from contaminated water to a safe level. The Fall 2019 team hopes to redesign the sedimentation process to optimize removal of flocs comprised of the coagulant polyaluminum chloride (PACl) and fluoride in the effluent, ultimately producing potable water.\n",
        "\n",
        "\n"
      ]
    },
    {
      "cell_type": "markdown",
      "metadata": {
        "id": "TpShT1NO1jsq",
        "colab_type": "text"
      },
      "source": [
        "## Introduction\n",
        "The majority of AguaClara plants use surface water from rivers and mountain streams as their source. AguaClara's mission of providing access to safe drinking water for all has motivated the AguaClara team to expand and develop new goals to provide safe drinking water from groundwater sources. By analyzing the different needs associated with treating groundwater sources, AguaClara can serve a broader range of communities around the world that lack access to potable water.\n",
        "\n",
        "At some locations where there is little to no fluoride in drinking water sources, fluoride is added to boost overall dental health [(NYC DEP, 2016)](http://www.nyc.gov/html/dep/pdf/wsstate16.pdf). However, in some areas of the world, high concentrations of fluoride exist naturally in water sources. For example, there has been moderate to high fluoride pollution in regions such as Algeria, Thailand, Ghana, India, and Iran, whose major source of drinking water is groundwater sources. In rural India specifically, approximately 80% of water used for drinking comes from groundwater sources [(Jagtap et al, 2012)](https://pubs.acs.org/doi/pdf/10.1021/cr2002855). The high levels of fluoride in these regions are due to the mobile dissolution of fluorite, apatite, and topaz from weathered rocks. The detrimental effects of ingesting excess fluoride over a long-term period of time include dental, skeletal, developmental, neurological, endocrinological, reproductive, and carcinogenic issues [(Bhattacharya and Samal, 2018)](http://www.isca.in/rjrs/archive/v7/i4/6.ISCA-RJRS-2018-028.pdf). Therefore, the World Health Organization (WHO) considers a safe concentration of fluoride in drinking water to be no greater than 1.5 mg/L [(Water-related diseases, 2016)](https://www.who.int/water_sanitation_health/diseases-risks/diseases/fluorosis/en/). A study by Brindha et al. that was carried out in India’s Nalgonda district found groundwater concentrations of fluoride as high as 8.8 mg/L, and determined that only around 52% of the water sampled was safe to drink [(Brindha et al, 2010)](https://link.springer.com/article/10.1007/s10661-010-1348-0), which stresses the critical need for water treatment processes that can effectively remove fluoride from groundwater sources.\n",
        "\n",
        "The AguaClara team aspires to achieve the recommended limit of 1.5 mg/L or lower stated by the World Health Organization. The Fluoride team, which started in Fall 2016, has used two main systems for research. The gravity system, which uses no electricity and instead relies on height differences to drive water from the influent to the effluent, was tested with the implications that it could eventually be implemented on-site for fluoride removal in the communities with excess concentrations of fluoride. The automated system, which uses pumps to drive water, was used to investigate optimal conditions for fluoride removal in an AguaClara system and to evaluate the feasibility of the design. Throughout the past few years, the Fluoride team has tested both the automated apparatus and the gravity-powered apparatus with polyaluminum chloride (PACl) and fluoride to optimize fluoride removal and achieve a residual concentration of less than 1.5 mg/L of fluoride. However, the team is currently in the process of redesigning the system using an automated apparatus, to understand what is necessary within a plant to best implement it for fluoride removal."
      ]
    },
    {
      "cell_type": "markdown",
      "metadata": {
        "id": "4gfgHIlZ2Evd",
        "colab_type": "text"
      },
      "source": [
        "## Literature Review\n",
        "###Collection and Analysis of Fluoride Samples\n",
        "\n",
        "An Ion-Selective Electrode (ISE) fluoride probe is used to measure the fluoride concentration of a sample. The following quality-control procedures should be followed.\n",
        "\n",
        "ISE fluoride probes can only detect solubilized fluoride. When ions such as $Fe^{3+}$ and $Al^{3+}$ are also present in a sample of dissolved fluoride, the positive ions form complexes with fluoride that can no longer be detected by the probe [(EPA Method 9214)](https://www.epa.gov/sites/production/files/2015-12/documents/9214.pdf). This issue is particularly prevalent in the context of current AguaClara research, which uses a polyaluminum chloride coagulant that forms aluminum-fluoride complexes. To avoid inaccurate readings of fluoride in samples that contain these complexes, polyethylene containers instead of glassware should be used when working with fluoride, since fluoride can adsorb to glass. To calibrate the ISE, standards of known fluoride concentrations within the mean expected fluoride concentration to be tested should be used to form a calibration curve [(EPA Method 9214)](https://www.epa.gov/sites/production/files/2015-12/documents/9214.pdf). The standards should be re-tested after every ten measurements to ensure that the fluoride probe has not drifted from the calibration curve. The controls should also be within 10% of their known values. A control blank containing one part water and one part TISAB should be used to enhance the accuracy of experimental data. Total Ionic Strength Adjustment Buffer (TISAB) solution should be added in order to decomplex the fluoride and aluminum and to maintain a constant pH of 5-5.5 in the sample. Temperature should be kept constant with less than a 1 degree Celsius deviation [(EPA Method 9214)](https://www.epa.gov/sites/production/files/2015-12/documents/9214.pdf).\n",
        "\n",
        "\n",
        "\n"
      ]
    },
    {
      "cell_type": "markdown",
      "metadata": {
        "id": "c7ZrijTDKTyq",
        "colab_type": "text"
      },
      "source": [
        "###Polyaluminum Chloride (PACl) and Defluoridation\n",
        "\n",
        "One method of defluoridation for drinking water is a system that implements coagulation, flocculation, and sedimentation. Coagulation is a process that involves adding a positively charged chemical coagulant to the raw, untreated water. Once the coagulant has been sufficiently flocculated, or mixed, it begins to destabilize colloidal and dissolved particles in the raw water [(EPA, 2007)](https://oaspub.epa.gov/tdb/pages/treatment/treatmentOverview.do?treatmentProcessId=1934681921). The coagulant that is often used for defluoridation of water is polyaluminum chloride, or PACl, with the chemical formula $Al_2(OH)_3Cl_3$ [(Gebbie, 2001)](http://wioa.org.au/conference_papers/2001/pdf/paper6.pdf). PACl is a better choice of coagulant in comparison to other common coagulants such as aluminum sulfate, or alum, because of its ability to treat water in a larger pH range of around 5.0 to 8.0 in contrast to alum’s effective pH range of around 5.5 to 6.5. Additionally, the absence of sulfate in PACl prevents the buildup of hydrogen sulfide in wastewater, which has been known to corrode pipes and other components of the sewer system. Both PACl and alum lead to residual aluminium in the effluent water, which must then be removed to meet the 0.2 mg/L standard set by the Environmental Protection Agency. The usage of PACl, however, resulted in less residual aluminium, which further supports using PACl as the coagulant for fluoride removal instead of alum [(Dubey et. al, 2018)](https://www.sciencedirect.com/science/article/pii/S0167732218303490).\n",
        "\n",
        "After PACl is added to raw water, the molecules attract dissolved fluoride ions and the mixture enters the flocculation stage of treatment. In flocculation, the destabilized particles from coagulation are encouraged to agglomerate together to form \"flocs\". There are several ways to instigate the agglomeration of these particles, with some common methods being a gentle mix, or a baffled plug-flow reactor [(EPA, 2007)](https://oaspub.epa.gov/tdb/pages/treatment/treatmentOverview.do?treatmentProcessId=1934681921). The goal of flocculation is to maximize the probability of particle interaction between destabilized matter so that these species of interest will form flocs in the reactor that have a higher density than the water around them. To reiterate, \"Aggregation requires successful collisions. Success is defined by particles attaching when they collide\" [(Weber-Shirk et al, 2018)](https://render.githubusercontent.com/view/aguaclara.github.io/Textbook/index.html). These successful collisions allow for the removal of fluoride in the sedimentation process, where the agglomerated particles are separated from the water using gravity settling or other clarification methods [(EPA, 2007)](https://oaspub.epa.gov/tdb/pages/treatment/treatmentOverview.do?treatmentProcessId=1934681921).\n",
        "\n"
      ]
    },
    {
      "cell_type": "markdown",
      "metadata": {
        "id": "Gkoj1KX4KZJo",
        "colab_type": "text"
      },
      "source": [
        "###Interactions between Polymeric Aluminum Hydroxide with Fluoride\n",
        "\n",
        "A 2001 study on polyaluminum-based coagulants showed that, when hydrolyzed, the coagulants formed mono- and polymeric species [(Gebbie, 2001)](http://wioa.org.au/conference_papers/2001/pdf/paper6.pdf). The interaction between aluminum hydroxide polymer and fluoride led to the formation of several insoluble and soluble products depending on the ratio of total fluoride ion and aluminum ion concentrations, pH, and the total applied fluoride and aluminum concentrations [(Parthasarathy et al., 1986)](http://www.nrcresearchpress.com/doi/abs/10.1139/v94-310). When pH was less than 4, the predominant fluoro-complex was AlF due to the complete dissociation of polymeric aluminum. When the ratio of total fluoride ion and aluminum ion concentrations was between 0.5 and 1, fluoride precipitate was observed; this precipitate replaced some of the hydroxide ions in the aluminum hydroxide polymer. When the ratio of total fluoride ion to aluminum ion concentration was greater than 3, there is both precipitate and dissolved complexed fluoride present. It was observed that the optimal conditions for precipitating fluoride was a hydroxide-to-aluminum ratio of 2.5, a fluoride to aluminum ratio of 0.7, and a pH between 4 and 7. \n",
        "\n",
        "Fluoro-aluminum complexation was also found to exhibit pH dependence. At pH values less than 5.0, almost all fluoride existed as fluoro-aluminum complexes, inhibiting its removal by coagulation. At pH levels greater than 8.0, fluoride almost exclusively as free fluoride, indicating that hydroxide has a greater affinity for aluminum at a higher pH [(Herrboldt, 2016)](https://repositories.lib.utexas.edu/bitstream/handle/2152/39194/HERRBOLDT-THESIS-2016.pdf?sequence=1). \n",
        "\n"
      ]
    },
    {
      "cell_type": "markdown",
      "metadata": {
        "id": "bOSAJV_zKZe9",
        "colab_type": "text"
      },
      "source": [
        "### Interactions Among Fluoride, NOM, and Alum During Coagulation Process\n",
        "\n",
        "Experimental results from jar tests illuminated mechanisms of behind fluoro-aluminum complexation [(Herrboldt, 2016)](https://repositories.lib.utexas.edu/bitstream/handle/2152/39194/HERRBOLDT-THESIS-2016.pdf?sequence=1). When fluoride was present in the system with alum, the residual aluminum increased significantly, indicating that fluoride is likely forming a soluble fluoro-aluminum complex. In the removal of fluoride, the presence of natural organic matter (NOM) caused a small decrease in fluoride removal from 50.1% to 45.8%, whereas NOM removal was greatly inhibited by the presence of fluoride [(Herrboldt, 2016)](https://repositories.lib.utexas.edu/bitstream/handle/2152/39194/HERRBOLDT-THESIS-2016.pdf?sequence=1). This indicates that in the removal of fluoride, fluoride was likely outcompeting NOM for complexation with aluminum or adsorption to aluminum solids.\n",
        "\n",
        "In the precipitation of aluminum with fluoride, fluoride was predicted to act in the following manner: since fluoride is a negatively charged species, fluoride must overcome the negative charge repulsion between particles in order to allow for aggregation. In the precipitation of fluoride with aluminum, the disruption of charges due to the negative repulsion stops collisions and ultimately causes particles to be concentrated at smaller particle diameters [(Herrboldt, 2016)](https://repositories.lib.utexas.edu/bitstream/handle/2152/39194/HERRBOLDT-THESIS-2016.pdf?sequence=1). In this manner, fluoride may inhibit the aggregation of flocs by acting as a stabilizing agent or by inhibiting precipitation. It was hypothesized that fluoride prevented the growth of precipitates by inhibiting interactions between hydroxide and nearby particles. It was also hypothesized that, due to the way that fluoride can replace hydroxide in solids , the formation of aluminum hydroxide complexes would be disrupted [(Herrboldt, 2016)](https://repositories.lib.utexas.edu/bitstream/handle/2152/39194/HERRBOLDT-THESIS-2016.pdf?sequence=1).\n",
        "\n"
      ]
    },
    {
      "cell_type": "markdown",
      "metadata": {
        "id": "2YEEWJs6KZvo",
        "colab_type": "text"
      },
      "source": [
        "### The Floc Blanket\n",
        "\n",
        "Floc blankets are formed in tanks where water is fed downwards into a hopper-shaped geometry displayed in Figure 1. The water is then redirected upwards, which resuspends floc particles that have settled to the bottom of the tank so they can agglomerate into a fluidized layer of flocs in the tank [(Garland et al, 2016)](http://doi.org/10.1089/ees.2015.0314). This collection of flocs, or blanket, typically rises to a point that is controlled by some type of weir or other means of particle separation from the treated water [(Gregory, 1975)](https://spiral.imperial.ac.uk/bitstream/10044/1/22645/2/Gregory-R-1977-MPhil-Thesis.pdf).\n",
        "\n",
        "<center>\n",
        "  <img src=\"https://aguaclara.github.io/Textbook/_images/diffuser_jetreverser.png\"height=\"200\">\n",
        "  \n",
        "  **Figure 1:** The inlet jet geometry that redirects water upwards and allows the formation of a floc blanket.\n",
        "  </center>\n",
        "  \n",
        "  <center>\n",
        "  <img src=\"https://aguaclara.github.io/Textbook/_images/Floc_Blanket_Floc_Hopper.png\" height = \"300\">\n",
        "  \n",
        "  **Figure 2:** A side view of a sedimentation tank. Once the floc blanket builds to the height of the floc weir on the left side of the image, excess flocs overflow into the weir instead of continuing to increase the height of the floc blanket.\n",
        "  </center>\n",
        "\n",
        "Using a floc blanket for particle removal is beneficial because, as water travels upwards through the blanket, there is an increased chance of collisions between remaining particles in the water and the particles in the floc blanket; particles in the water are then more likely to be captured by the floc blanket instead of escaping with the clean effluent. While this process greatly increases removal efficiency, it should be noted that the floc blanket does not capture all particles, because of shear forces acting on smaller flocs that prevent them from remaining attached to larger flocs.\n",
        "\n",
        "The stability and quality of the floc blanket depended on both the settling velocity of flocs and the upflow velocity through the sedimentation tank [(Su et al, 2004)](http://www.sciencedirect.com/science/article/pii/S0043135403005025). For this reason, it is important that these two aspects are controlled carefully. Studies have shown that when one of these parameters experiences fluctuations, floc blankets can fail to function as intended, which may subsequently lead to poor effluent water quality [(Su et al, 2004)](http://www.sciencedirect.com/science/article/pii/S0043135403005025). In one case, a clarifier in Taiwan lost its entire floc blanket during a period of low turbidity measurements in the influent raw water [(Lin et al, 2004)](https://ascelibrary.org/doi/10.1061/%28ASCE%290733-9372%282004%29130%3A12%281481%29). Furthermore, the conditions must be maintained to allow for the resuspension of agglomerated flocs into the fluidized bed, but not to a superfluous degree where flocs would be torn apart by high shear forces [(Garland et al, 2016)](http://doi.org/10.1089/ees.2015.0314).\n",
        "\n"
      ]
    },
    {
      "cell_type": "markdown",
      "metadata": {
        "id": "GLS2mhh6KZ3R",
        "colab_type": "text"
      },
      "source": [
        "### Langmuir Isotherm\n",
        "\n",
        "The Langmuir isotherm is a model used to describe the adsorption process, in which a chemical species of interest (the adsorbate) is attracted to the surface of a solid (adsorbent). The two then attach by a physical or chemical bond [(Foo and Hameed, 2010)](https://doi.org/10.1016/j.cej.2009.09.013). These models allow for the delineation of relationships between the pollutant of interest and the adsorbent being used, and are thus very useful in giving a visual representation of adsorption efficiency based on specific experimental conditions [(Foo and Hameed, 2010)](https://doi.org/10.1016/j.cej.2009.09.013).\n",
        "\n",
        "The Langmuir isotherm is governed by the following equation [(Foo and Hameed, 2010)](https://doi.org/10.1016/j.cej.2009.09.013):\n",
        "\n",
        "\n",
        "$$q_E=\\frac{Q^0 bC_e}{1+bC_e}$$\n",
        "\n",
        "$q_E$ = Uptake (mg Fluoride/g PACl)\n",
        "$Q^0$ = Maximum adsorption density (mg/L Fluoride)\n",
        "$b$ = Langmuir constant\n",
        "$C_e$ = Effluent Fluoride Concentration (mg/L Fluoride)\n",
        "\n",
        "Past AguaClara fluoride teams used an isotherm to model the relationship between the mass of fluoride absorbed (mg) per gram of PACl used and the effluent concentration of fluoride (mg/L). In this instance, fluoride is the pollutant of interest, and PACl can be considered the adsorbent material. The most recent version of this isotherm model can be seen below in Figure 3.\n",
        "\n",
        "<center>\n",
        "  <img src=\"https://raw.githubusercontent.com/AguaClara/Fluoride-Auto/master/Spring%202019/Langmuir%20Isotherm%20Data/isotherm.png\">\n",
        "  \n",
        "**Figure 3:**  Langmuir isotherm model developed by the Spring 2019 Fluoride Automated team.\n",
        "</center>\n",
        "The goal of using the isotherm is to optimize the uptake of fluoride, or efficiency of the PACl. Ideally, this model would indicate an accurate dosage of PACl for a detected influent concentration of fluoride that could lower the effluent fluoride concentration to a level below the WHO standard of 1.5 mg/L for drinking water."
      ]
    },
    {
      "cell_type": "markdown",
      "metadata": {
        "id": "V5DbXTwtY7kB",
        "colab_type": "text"
      },
      "source": [
        "## Previous Work\n",
        "### Automated System\n",
        "The AguaClara Fluoride Automated System began in Fall 2016 after receiving an EPA Phase II grant in Spring 2016 [(Cheng et al., 2016)](https://drive.google.com/file/d/0Bzej1vulT_XyWHZyLXdIWlk1RkE/view). The team focused on removing particles with a floc blanket, using PACl and running tests with red dye in place of fluoride so that turbidity and visual observation could be used to gauge particle removal. The team determined that the floc blanket must be at least 5 cm high in order to effectively remove red dye. In addition, a sloped bottom geometry for the base of the sedimentation tube was fabricated to stop the accumulation of flocs at the bottom of the reactor and to instead promote continuous recirculation of flocs. \n",
        "\n",
        "The Fall 2017 team observed that the voltage detected by the fluoride probe was noticeably different for tap water and deionized water, since some ions present in tap water may have reacted with fluoride, forming various compounds that were not detected by the fluoride probe, so the team concluded that a new adsorption model that accounts for this difference in voltage was necessary.\n",
        "\n",
        "The Spring 2018 team conducted experiments in which they varied either the influent PACl levels or the influent fluoride levels, for the collection of data, in order to develop a Langmuir Isotherm, which is an adsorption model believed to describe the interaction between polyaluminum chloride and red dye particles or fluoride ions in water [(Akpan et al., 2018)](https://github.com/AguaClara/Fluoride-Auto/blob/master/Spring%202018/FluorideReportSp18.md). Skepticism over the accuracy of the probe led to inconclusive data.\n",
        "\n",
        "The Summer 2019 team conducted experiments with constant fluoride concentrations and varying PACl concentrations [(Jin et al., 2019)](https://github.com/AguaClara/Fluoride-Auto/blob/master/Summer%202019/Summer_2019_Final_Report.ipynb). The team also made changes to the lab apparatus, the main change being the change in the angle of the plate settler. In the initial tests that the Summer 2019 team ran, flocs seemed to be accumulating on the plate settlers above the weir, so the team increased the angle of the bend to 70° in an attempt to allow the flocs to slide down more easily. This change effectively prevented the accumulation of flocs on the plate settlers. Additionally, the team made the Automated and Gravity systems uniform by fabricating two identical sedimentation tubes, both with the weir on the plate settler section. \n",
        "\n"
      ]
    },
    {
      "cell_type": "markdown",
      "metadata": {
        "id": "a7POfNmj2Gr7",
        "colab_type": "text"
      },
      "source": [
        "##Methods\n"
      ]
    },
    {
      "cell_type": "markdown",
      "metadata": {
        "id": "q6yxy51_LKNF",
        "colab_type": "text"
      },
      "source": [
        "##Experimental Apparatus\n",
        "<center>\n",
        "<img src = \"https://raw.githubusercontent.com/AguaClara/Fluoride-Auto/master/Fall%202019/Images/Turbidity.png\" height= 350 width = 600 >\n",
        "\n",
        "**Figure 4:** A schematic drawing of the turbidity experiment that the Fall 2019 team used.\n",
        "\n",
        "</center>\n",
        "\n",
        "<center>\n",
        "<img src = \"https://raw.githubusercontent.com/AguaClara/Fluoride-Auto/master/Fall%202019/Images/Lab%20Bench.jpg\" height = 400 width = 300>\n",
        "\n",
        "**Figure 5:** The lab bench setup of the turbidity experiment with the third pump connected to the turbidimeter.\n",
        "\n",
        "</center>\n",
        "\n",
        "\n",
        "\n",
        "<center>\n",
        "<img src = \"https://raw.githubusercontent.com/AguaClara/Fluoride-Auto/master/Fall%202019/Images/Capture%20Velocity%20Schematic.png\" height = 300>\n",
        "\n",
        "**Figure 6:** A schematic of the capture velocity experiment with the capture velocity determined by the waste pump."
      ]
    },
    {
      "cell_type": "markdown",
      "metadata": {
        "id": "eg67juMrLkO-",
        "colab_type": "text"
      },
      "source": [
        "###Turbidity Experiment\n",
        "In previous experiments, the fluoride probe was immersed in the effluent stream from the sedimentation tube reactor to measure the effluent fluoride concentration. However, the fluoride probe could not detect flocs which contained some fluoride. Thus, with the experiments running, there was not an accurate sense of how much fluoride was actually leaving in the effluent reactor stream. However, previous teams also observed a rise in turbidity when flocs were seen exiting through the effluent. Thus, the team decided to run an experiment with the goal of determining a model that could predict the amount of effluent fluoride leaving the system in the form of flocs, using turbidity as the measurable. \n",
        "\n",
        "The experimental setup is shown in Figures 6 and 7. The same apparatus from previous semesters was used, with fluoride and PACl dosing the influent water as it ran from the tap to the flocculator. However, instead of also running through a sedimentation tube like in previous setups, the flocculator fed directly into the turbidimeter. The purpose was to collect data for the turbidity of flocs when a known concentration of PACl and fluoride was entering the turbidimeter, effectively determining the relationship between turbidity and aluminum concentration. The fluoride probe also measured effluent ionic fluoride after the turbidimeter, in case not all of the fluoride had flocculated. PACl dosage was varied throughout the experiment in order to produce flocs in different amounts."
      ]
    },
    {
      "cell_type": "markdown",
      "metadata": {
        "id": "eF5dkiFVRsue",
        "colab_type": "text"
      },
      "source": [
        "### Capture Velocity Experiment\n",
        "In previous experiments, it was observed that fluoride flocs were incapable of completely exiting the sedimentation tube through the floc weir. The flocs that were unable to exit the system through the waste line either were flowing into the effluent, or were trapped against the lip of the floc weir. These observations pointed to the potential inadequacies of the sedimentation system to entirely remove the fluoride flocs. More specifically, the fact that the flocs were leaving the system through the effluent suggest that the velocity was too high, and gravity was not strong enough to counteract the velocity to allow the flocs to completely settle into the floc weir. \n",
        "\n",
        "To build a new sedimentation system specific to fluoride flocs, the capture velocity, the velocity to capture the slowest moving particle, must be determined. Capture velocity in the sedimentation tube can be modeled by:\n",
        "\n",
        "$$V_c=\\frac{SV_a sin\\alpha}{Lsin\\alpha cos\\alpha +S}$$\n",
        "\n",
        "where $\\alpha$ is the angle of the tube settler, $V_a$ is the upflow velocity, $L$ is the length of the tube settler, and $S$ is the diameter of the tubing [(Galantino et al., 2017)](https://github.com/AguaClara/high_rate_sedimentation/blob/master/Reports/HRS%202017%20Fall%20Final%20Report.pdf). \n",
        "\n",
        "In the experiment (Figure 9), however, a more simplified model of capture velocity was used. Through the basic relation $$Q=VA$$ where $Q$ is the flow rate, $V$ is the velocity and $A$ is the cross sectional area, it was determined that the waste pump flow rate should be determined by a given capture velocity multiplied by the tube cross sectional area. Capture velocity was directly varied in this experiment to determine the best capture velocity for removing flocs. \n",
        "\n",
        "The system was run with constant flow rates of polyaluminum chloride and fluoride in order to ensure steady dosing, and the system velocity through the flocculator was kept constant in order to produce the same amount of flocs for each trial. The flow rates of all of these components were kept constant by using a peristaltic pump. The flocculator was connected to 0.5 inch diameter tubing of set length, which was regulated by the waste pump. Turbidity data was collected to determine whether fluoride flocs were exiting the effluent, and through this information, the velocity at which the most flocs would leave the system through the waste was determined. This represents the optimal velocity of the waste line in the sedimentation tube.\n"
      ]
    },
    {
      "cell_type": "markdown",
      "metadata": {
        "id": "-iZeNU-yeUz_",
        "colab_type": "text"
      },
      "source": [
        "## Materials\n",
        "\n",
        "* Three 0-50 RPM Golander pumps\n",
        "* Flexible and hard 0.635 cm (1/4\") tubing and Microbore tubing\n",
        "* One Turbidimeter\n",
        "* One Fluoride Ion Selective Electrode (ISE) Probe (VWR International, Catalog No. BK511141 (EA))\n",
        "  * Access the general manual [here](https://github.com/AguaClara/Fluoride-Auto/blob/master/Spring%202019/Resources/Fluoride%20Probe%20Manual.pdf).\n",
        "  * Access the comprehensive manual [here](https://github.com/AguaClara/Fluoride-Auto/blob/master/Spring%202019/Resources/Fluoride%20Selective%20Electrode%20Comprehensive%20Manual.pdf).\n",
        "* 1\" and 3/4\" clear Polyvinyl Chloride, or PVC (McMaster Carr)\n",
        "* One Bottom Geometry (High Rate Sedimentation Bottom Geometry team)\n",
        "* 5 g/L Polyaluminum Chloride (PACl) Stock Solution\n",
        "* 1 g/L Fluoride Stock Solution\n",
        "* Connectors and buckets for stock tanks\n",
        "* Two bottles for fluoride stock and flow accumulator\n",
        "* One stir plate with stir bar for PACl stock solution"
      ]
    },
    {
      "cell_type": "markdown",
      "metadata": {
        "id": "14QXCacy8axM",
        "colab_type": "text"
      },
      "source": [
        "## Procedure\n",
        "### Turbidity Experiment\n",
        "1. Fluoride was pumped from the Fluoride stock tank and mixed with tap water.\n",
        "2. PACl was pumped from the Coagulant stock tank and mixed with the diluted fluoride stream.\n",
        "3. The mixture was sent to the flocculator to form flocs.\n",
        "4. The effluent stream from the flocculator entered the turbidimeter to measure the turbidity of the stream.\n",
        "5. The fluoride probe was immersed in the effluent stream from the turbidimeter to measure the effluent fluoride concentration.\n",
        "6. The effluent stream flowed into the sink.\n"
      ]
    },
    {
      "cell_type": "markdown",
      "metadata": {
        "id": "_Nn9zXKc-Fjq",
        "colab_type": "text"
      },
      "source": [
        "## Results and Analysis\n",
        "### Turbidity Experiment\n",
        "The team ran initial experiments in which the flocculator was connected directly to the turbidimeter. While watching the graphs generated in real time by ProCoDA, the team observed that, for each dosage of PACl, the turbidity would increase until it reached a steady-state turbidity. This steady-state turbidity increased as the influent PACl dosage increased. However, the team is still unsure of how to characterize steady-state for this experiment. Originally, it was hypothesized that the steady-state time would be the residence time of the flocculator, which was calculated using the volume of the flocculator and the influent flow rate of water. However, while the residence time of the flocculator was determined to be around two minutes, a qualitative observation of the ProCoDA graphs revealed that the turbidity did not level out until after 775 s to 1200 s after each increase in PACl addition. One possible reason for this discrepancy could have been that, while running the initial stream of water through the flocculator, flocs were adhering to the walls of the flocculator. The time it took for the turbidity to reach steady state would then be the time it took for the maximum number of flocs to stay on the walls of the flocculator, rather than the residence time of the flocculator.\n",
        "\n",
        "The team varied the dosage of PACl to find the steady state turbidity of varying concentrations of influent PACl. For each turbidity dosage, the steady state turbidity was determined by averaging the turbidity values of all points at steady state (Figure 9). \n",
        "\n",
        "<center>\n",
        "<img src=\"https://raw.githubusercontent.com/AguaClara/Fluoride-Auto/master/Fall%202019/Images/Graphs/Turbidity%20over%20Time.png\">\n",
        "\n",
        "**Figure 7:** A turbidity vs. time curve, where steady state occurs from 775 s to 1200 s in the experiment.\n",
        "</center>\n",
        "\n",
        "A turbidity calibration curve was then constructed with each of the steady state turbidities from each experiment to determine the correlation between the turbidity measurement and the aluminum concentration of fluoride flocs (Figure 8). \n",
        "\n",
        "<center>\n",
        "<img src=\"https://raw.githubusercontent.com/AguaClara/Fluoride-Auto/master/Fall%202019/Images/Graphs/Turbidity%20at%20Varying%20PACl%20Dosages.png\">\n",
        "\n",
        "**Figure 8:** Average turbidity of the effluent and PACl concentration of the influent were plotted to find the trend that results from flocculation of varying dosages of PACl into the system.\n",
        "\n",
        "</center>\n",
        "\n",
        "The experiment was repeated across different days, and while they yielded variable turbidities, especially at lower PACl concentrations, the overall shape of the curve remained consistent. The fluctuations in turbidity could perhaps be accounted for by differences in water quality on different days. Furthermore, the effluent turbidity tended to plateau between 10 and 15 NTU. This suggests that at high concentrations of PACl, the addition of more PACl does not influence the amount of flocs that are created in flocculation.\n",
        "\n",
        "Aqueous ionic fluoride was also measured, and their steady state values were calculated in the same manner as turbidity (Figure 11). The results revealed that as PACl concentration increased, the amount of ionic fluoride exponentially decreased. There also seemed to be a plateau where the increase in PACl did not cause an increased uptake of fluoride, but did not occur at the same concentration as the plateau in turbidity. This could be attributed to a number of factors, and more investigations should be conducted regarding PACl-fluoride binding to ultimately increase uptake. Overall, the efficiency of fluoride binding was not optimal, since ionic fluoride decreased from 5 mg/L to 1.25 mg/L, meaning that flocculation was only able to remove 75% of the fluoride contamination.\n",
        "\n",
        "<center>\n",
        "<img src=\"https://raw.githubusercontent.com/AguaClara/Fluoride-Auto/master/Fall%202019/Images/Graphs/Fluoride%20Decreasing%20w%20Increasing%20PACl.png\">\n",
        "\n",
        "**Figure 9:** There was an exponential decay in effluent ionic fluoride concentrations with increasing PACl concentrations.\n",
        "\n",
        "</center>\n",
        "\n",
        "### Capture Velocity Experiment\n",
        "The capture velocity of PACl-fluoride flocs was then determined by varying the flow rate of the waste line, mimicking the pulling force that captures the flocs. To capture all of the flocs, the turbidity in the waste line must approach the turbidity found in the turbidity calibration. Thus, for the 20 mg/L of PACl that was dosed into the system, the waste turbidity should approach 10 NTU. It was found that the optimal capture flow rate was 0.191 mL/s, which corresponded to a capture velocity of 14 mm/s (Figure 10).\n",
        "\n",
        "<center>\n",
        "<img src=\"https://raw.githubusercontent.com/AguaClara/Fluoride-Auto/master/Fall%202019/Images/Graphs/Turbidity%20at%20Varying%20Capture%20Velocities%20w%20Target%20.png\">\n",
        "</center>\n",
        "\n",
        "**Figure 10:** The average turbidity of each varying capture velocity was plotted against the capture flow rate. The red line shows the turbidity measured at the same concentration of fluoride and PACl in the turbidity experiment. The results of this experiment were used to determine the optimal capture velocity for fluoride flocs in a sedimentation tube. \n",
        "\n",
        "At low flow rates, the turbidity of the waste stream was low, presumably because the capture velocity was not sufficiently high to capture the PACl flocs. The turbidity peaked at intermediate capture velocities. For higher capture velocities, the turbidity of the flocs decreased to nearly zero. This result seemed to be inconsistent with our experimental design, since a higher capture velocity should have drawn more flocs through the turbidimeter. The turbidimeter proved to be faulty in a later experiment, so the result of the capture velocity experiment may be inconclusive. \n",
        "\n",
        "The optimal capture velocity of 14 mm/s was utilized in the sedimentation tube. Observationally, the majority of flocs were able to exit through the waste instead of the effluent, which indicated that this capture velocity was successful. More studies should be done to verify this.\n",
        "\n",
        "\n",
        "\n",
        "\n",
        "\n",
        "\n",
        "\n"
      ]
    },
    {
      "cell_type": "markdown",
      "metadata": {
        "id": "Me12TWjY-Iys",
        "colab_type": "text"
      },
      "source": [
        "## Conclusions\n",
        "\n",
        "The Fluoride Fall 2019 team observed that the turbidity experiments' experimental design needs to be modified as the residence time was not corresponding with the flocculator residence time. A possible reason is that flocs may be adhering to the walls of the flocculator which would increase the time for the turbidity meter to reach steady state. If this hypothesis is correct, the steady state time would not correspond to the residence time but rather the time it took for all the PACl to stick to the sides of the flocculator. Further experiments are needed to make more definitive conclusions.\n",
        "\n",
        "The turbidity experiment confirmed higher levels of flocculation with increasing PACl concentration, and helped create a baseline model to characterize flocs quantitatively based on turbidity. The experiment led into the capture velocity experiment, which yielded the observation that a capture velocity of 14 mm/s, although optimal out of the capture velocities tested, still did not reach the target turbidity based on the highest turbidity reached for the same PACl and fluoride concentration and plant flow rate during the turbidity experiment. This result indicates that, even at the optimal capture velocity, not all the flocs were being removed. Thus, more trials of the capture velocity experiment should be carried out to see if that target turbidity can ever be achieved, and if all the flocs can ever be removed. \n"
      ]
    },
    {
      "cell_type": "markdown",
      "metadata": {
        "id": "uQBlaQNP-VJA",
        "colab_type": "text"
      },
      "source": [
        "## Future Work\n",
        "\n",
        "To optimize fluoride removal and to prevent flocs from leaving through the effluent line, the Fluoride team plans to devise multiple experiments to determine the optimal capture velocity. The capture velocity experiments would determine the velocity the fluoride flocs would not escape and fall down the floc weir. Therefore, a fluoride-specific sedimentation tube would be able to be fabricated based on these tests that would allow for increased fluoride removal and understanding of the physics behind fluoride floc removal. Future work on other varying parameters of fluoride to PACl binding, such as the effect of pH, needs to be done to increase the efficiency of creating flocs. After experimenting with other factors that may affect the binding of PACl to fluoride, the automated and gravity powered systems can be synchronized by matching the optimal conditions of each factor tested for optimal fluoride removal."
      ]
    },
    {
      "cell_type": "markdown",
      "metadata": {
        "id": "ZXUik5SH-YFM",
        "colab_type": "text"
      },
      "source": [
        "## Bibliography\n",
        "\n",
        "Akpan, P., Mehrabyan, T,. Sausele, D., & Zhang, V. (2018). Fluoride, Spring 2018. Retrieved from https://github.com/AguaClara/Fluoride-Auto/blob/master/FluorideReportSp18.md.\n",
        "\n",
        "Bhattacharya, P., & Samal, A. (2018, April). Fluoride contamination in groundwater, soil and cultivated foodstuffs of\n",
        "India and its associated health risks: A Review. Research Journal of Recent Sciences, 7(4),36-47. Retrieved from http://www.isca.in/rjrs/archive/v7/i4/6.ISCA-RJRS-2018-028.pdf.\n",
        " \n",
        "Brindha, K., Rajesh, R., Murugan, R., & Elango, L. (2010, February 20). Fluoride contamination in groundwater in parts of Nalgonda District, Andhra Pradesh, India. Retrieved from https://link.springer.com/article/10.1007/s10661-010-1348-0\n",
        " \n",
        "Cheng, M., Longo, A., & Vidal, B. (2016). Fluoride, Fall 2016. Retrieved from https://drive.google.com/file/d/0Bzej1vulT_XyWHZyLXdIWlk1RkE/view.\n",
        " \n",
        "Dubey, S., Agarwal, M., & Gupta, A. (2018). Experimental investigation of Al-F species formation and transformation during coagulation for fluoride removal using alum and PACl. Journal of Molecular Liquids, 266, 349–360. doi: 10.1016/j.molliq.2018.06.080.\n",
        " \n",
        "EPA. (2007, February 5). “Water Treatability Database.” Environmental Protection Agency. Retrieved from https://oaspub.epa.gov/tdb/pages/treatment/treatmentOverview.do?treatmentProcessId=1934681921.\n",
        " \n",
        "EPA Method 9214. (1996, December). Retrieved from https://www.epa.gov/sites/production/files/2015-12/documents/9214.pdf.\n",
        "\n",
        "Foo, K.Y. and Hameed, B.H. (2010, January). Insights into the modeling of adsorption isotherm systems, Chemical Engineering Journal, Volume 156, Issue 1, 2010, Pages 2-10, ISSN 1385-8947, https://doi.org/10.1016/j.cej.2009.09.013. Retrieved from https://www.sciencedirect.com/science/article/pii/S1385894709006147?via%3Dihub.\n",
        "\n",
        "Garland, C., Weber-Shirk, M., Lion, L.W. Environmental Engineering Science. (2016, February). ahead of print: http://doi.org/10.1089/ees.2015.0314. Retrieved from https://www.liebertpub.com/doi/10.1089/ees.2015.0314.\n",
        "\n",
        "Gebbie, P. (2001, December 5). Using Polyaluminum Coagulants in Water Treatment. Retrieved from http://wioa.org.au/conference_papers/2001/pdf/paper6.pdf.\n",
        "\n",
        "Grasso, D., Louie, M., Sausele, D., & Spiek, E. (2019). Fluoride Automated System, Spring 2019. Retrieved from https://github.com/AguaClara/Fluoride-Auto/blob/master/Spring%202019/Fluoride-Auto-Spring-2019-Report.md.\n",
        "\n",
        "Gregory, R. (1975, March). Floc Blanket Clarification. Retrieved from https://spiral.imperial.ac.uk/bitstream/10044/1/22645/2/Gregory-R-1977-MPhil-Thesis.pdf.\n",
        "\n",
        "Herrboldt, J. P. (2016). Fluoride, Natural Organic Matter, and Particles: The Effect of Ligand Competition on the Size Distribution of Aluminum Precipitates in Flocculation. Retrieved from https://repositories.lib.utexas.edu/bitstream/handle/2152/39194/HERRBOLDT-THESIS-2016.pdf?sequence=1.\n",
        "\n",
        "Huang, S., Jin, C., and Kohli, S. (2019). Fluoride Gravity, Spring 2019. Retrieved from https://github.com/AguaClara/Fluoride_Gravity/blob/master/Spring%202019/Spring%202019%20Report.md.\n",
        "\n",
        "Jagtap, S., Yenkie M. K., Labhsetwar N., and Rayalu S. Chemical Reviews 2012 112 (4), 2454-2466\n",
        "DOI: 10.1021/cr2002855. Retrieved from https://pubs.acs.org/doi/pdf/10.1021/cr2002855.\n",
        "\n",
        "Lin, W. W.; Sung, S. S.; Chen, L. C.; Chung, H. Y.; Wang, C. C.; Wu, R. M.; Lee, D. J.; Huang, Chihpin; Juang, R. S.; Peng, X. F. and Chang, Hsi-Lih. (2004, December). \"Treating high-turbidity water using full-scale floc blanket clarifiers\". Journal of Environmental Engineering, vol. 130, No. 12, pp. 1481-1487. Retrieved from https://ascelibrary.org/doi/10.1061/%28ASCE%290733-9372%282004%29130%3A12%281481%29.\n",
        "\n",
        "Liu, L., Luo, X.-B., Ding, L., & Luo, S.-L. (2019). Application of Nanotechnology in the Removal of Heavy Metal From Water. Nanomaterials for the Removal of Pollutants and Resource Reutilization, 83–147. doi: 10.1016/b978-0-12-814837-2.00004-4.\n",
        "\n",
        "Longo, A., Li-Vidal, B., Cheng, M., & Zhang, V. (2017). Fluoride Floc Blanket, Spring 2017. Retrieved from https://github.com/AguaClara/Fluoride-Auto/blob/master/Spring%202017/Fluoride%20Spring%202017.pdf.\n",
        "\n",
        "Mehrabyan,T., Shah,J., Sowe, S. (2018, December 8). Fluoride Automated System, Fall 2018. Retrieved from https://github.com/AguaClara/Fluoride-Auto/blob/master/Fall%202018/Automated%20System/Fall_2018_Report.md.\n",
        "Pang, C., Sarmiento, K., & Tsang, C. (2018). Fluoride Gravity, Fall 2018. Retrieved from https://github.com/AguaClara/Fluoride_Gravity/blob/master/Fall%202018/Fluoride_Grav_Fall2018_Report.md.\n",
        "\n",
        "Pang, C., Sarmiento, K., & Tsang, C. (2018). Fluoride Gravity, Summer 2018. Retrieved from https://github.com/AguaClara/Fluoride-Auto/blob/master/Summer%202018/Fluoride_Summer2018.md.\n",
        "\n",
        "Parthasarathy, N., Buffle, J., & Haerdi, W. (1986). Study of interaction of polymeric aluminium hydroxide with fluoride. Canadian Journal of Chemistry, 64(1), 24-29. doi:10.1139/v86-006.\n",
        "\n",
        "Su, S.T., Wu, R.M., Lee, D.J. Blanket dynamics in upflow suspended bed, Water Research, Volume 38, Issue 1, 2004, Pages 89-96, ISSN 0043-1354, https://doi.org/10.1016/j.watres.2003.09.002. Retrieved from http://www.sciencedirect.com/science/article/pii/S0043135403005025\n",
        "\n",
        "United States, NYC Environmental Protection. (2016). New York City 2016 Drinking Water Supply and Quality Report. New York. Retrieved from http://www.nyc.gov/html/dep/pdf/wsstate16.pdf.\n",
        "\n",
        "Weber-Shirk, Monroe, et al. (2018). AguaClara Textbook. AguaClara Cornell, aguaclara.github.io/Textbook/index.html.\n",
        "\n",
        "World Health Organization. (2016, August 29). Water-related diseases. Retrieved from http://www.who.int/water_sanitation_health/diseases-risks/diseases/fluorosis/en/.\n"
      ]
    },
    {
      "cell_type": "markdown",
      "metadata": {
        "id": "EvBA8kN4-dty",
        "colab_type": "text"
      },
      "source": [
        "# Manual"
      ]
    },
    {
      "cell_type": "markdown",
      "metadata": {
        "id": "yfoW16_iACYt",
        "colab_type": "text"
      },
      "source": [
        "## Calibrating the Fluoride Probe\n",
        "### Set Up the Calibration Spreadsheet\n",
        "In Excel, set up a table as shown in the image below. The yellow highlighted cells are for the voltages measured during calibration, while the green highlighted cell is for a voltage measured during an experiment. A new spreadsheet should be used for every calibration. A linear graph, while not necessary, can be a helpful visual.\n",
        "<center>\n",
        "  <img src=\"https://raw.githubusercontent.com/AguaClara/Fluoride-Auto/master/Summer%202019/Images/Calibration%20Sheet.png\" height =\"300\">\n",
        "  \n",
        "**Figure 11:**  Calibration Excel Sheet.\n",
        "    </center>\n",
        "\n",
        "#### Using the Probe in ProCoDA\n",
        "The probe only needs to be added to ProCoDA once. On the \"Configuration\" tab, click the icon labeled \"Volts.\"\n",
        "<center>\n",
        "  <img src=\"https://raw.githubusercontent.com/AguaClara/Fluoride-Auto/master/Summer%202019/Images/Volts%20Link.png\" >\n",
        "  \n",
        "  **Figure 12:**  Volts icon on ProCoDA.\n",
        "    </center>\n",
        "  \n",
        "  Click \"Insert Sensor\" and name it \"Fluoride Probe.\" This screen is also a good way to check if the probe is reading a voltage.\n",
        "  \n",
        "  <center>\n",
        "    <img src=\"https://github.com/AguaClara/Fluoride-Auto/blob/master/Summer%202019/Images/Volt%20Reading.png?raw=true\">\n",
        "  \n",
        " **Figure 13:** Screen to add a probe and check voltage reading on ProCoDA.\n",
        "    </center>\n",
        "\n",
        "#### Daily Probe Calibration Procedure\n",
        "*Safety Precautions: Wear Latex gloves when handling fluoride, in order to prevent contact with bare skin.*\n",
        "1.  Make fluoride standard solutions of 1 mg/L, 5 mg/L, 10 mg/L, 20 mg/L, and 100 mg/L of fluoride. Use water from the tap (blue line). Standards do not need to be made daily.\n",
        "\n",
        "The following table is applicable for making 100 mL of standard solution from the 10,000 ppm F- standard solution.\n",
        "<table>\n",
        "  <tr>\n",
        "    <th> Standard Concentration (mg/L)</th>\n",
        "    <th>Volume of Fluoride Stock (microliters)</th>\n",
        "  <tr>\n",
        "    <td>1 </td>\n",
        "    <td>10</td>\n",
        "  </tr>\n",
        "  <tr>\n",
        "    <td>5</td>\n",
        "    <td> 50</td>\n",
        "  </tr>\n",
        "  <tr>\n",
        "    <td>10</td>\n",
        "    <td>100</td>\n",
        "  </tr>\n",
        "    <tr>\n",
        "    <td>20</td>\n",
        "    <td>200</td>\n",
        "  </tr>\n",
        "   <tr>\n",
        "    <td>100</td>\n",
        "    <td>1000</td>\n",
        "     \n",
        "  </tr>\n",
        "  \n",
        "</table>\n",
        "\n",
        "<center>\n",
        "  <img src=\"https://raw.githubusercontent.com/AguaClara/Fluoride-Auto/master/Summer%202019/Images/Standard%20Solutions.JPG\">\n",
        "  \n",
        "**Figure 14:**  The Summer 2019 standard solutions. The probe is stored in the 10 mg/L standard when not in use.\n",
        "    </center>\n",
        "    \n",
        "2.  Use a squeeze bottle to rinse the sides and bottom of the probe with DI water. Gently dab the probe dry with a Kimwipe.\n",
        "3.  Shake the standard (a good strategy is start with the 1 mg/L or 20 mg/L standard and go in order of increasing or decreasing concentration).\n",
        "4.  Push the O-ring down the probe until the fill hole is exposed.\n",
        "5.  Slide the probe into the hole in the bottle cap. Twist the cap onto the standard. Make sure the probe is not touching the sides or bottom of the bottle.\n",
        "6.  Click the \"Graphs\" tab on ProCoDA and highlight \"Fluoride Probe.\"\n",
        "7.  Do not touch the bottle or probe while the reading stabilizes. Try not to have any stirrers or pumps on at the same time, as the motion may disturb the probe. The calibration curve should look similar to the one below.\n",
        "\n",
        "<center>\n",
        " <img src=\"https://raw.githubusercontent.com/AguaClara/Fluoride-Auto/master/Summer%202019/Images/Probe%20Calibration%20Curve.png\">\n",
        "\n",
        "**Figure 15:** A typical calibration curve for a working probe.\n",
        "  \n",
        "  </center>\n",
        "  \n",
        "8.  Once the number under the box labeled \"Voltage\" (highlighted in Figure 31) stops changing, record the number next to the corresponding concentration in the Excel spreadsheet.\n",
        "9.  Repeat steps 2-8 for all standards.\n",
        "10. When the probe is not in use, store in the 10 mg/L standard. Remember to close the fill hole when finished with the probe for the day."
      ]
    },
    {
      "cell_type": "markdown",
      "metadata": {
        "id": "pZNOs8-Oa9y6",
        "colab_type": "text"
      },
      "source": [
        "### Set Points in ProCoDA\n",
        "Before running any experiments, make sure the pump is calibrated on ProCoDA by clicking the \"Configuration\" tab and the icon under \"Pump Calibration\" on the right side. Pump calibration only needs to be done once.\n",
        "\n",
        "<center>\n",
        " <img src=\"https://raw.githubusercontent.com/AguaClara/Fluoride-Auto/master/Fall%202019/Images/set%20points%201.png\" height =\"500\">\n",
        "\n",
        " **Figure 16:**  The set points the Fall 2019 team used.\n",
        "    </center>\n",
        "\n",
        "<center>\n",
        " <img src=\"https://raw.githubusercontent.com/AguaClara/Fluoride-Auto/master/Fall%202019/Images/set%20points%202.png\" height =\"500\">\n",
        "\n",
        " **Figure 17:**  The set points the Fall 2019 team used.\n",
        "    </center>\n",
        "\n",
        "#### The Turbidity Experiment\n",
        "1. Choose experimental flow rates for water pump and concentrations for coagulant pump and fluoride pump by using the Python code to determine the correct mL/s from mL/rev.\n",
        "2. Create ‘Chemical On State’, ‘Water On State’, and ‘Just Water On State’ set points using the State List under the ‘Rules & Outputs’ tab. See Figure 52 below. The ‘Chemical On State’ takes into account the states when chemicals (i.e. fluoride, PACl)  are being used (i.e. 146). The ‘Water On State’ takes into account the states when water is being used for the experiment. (i.e. 146). The ‘Just Water On State’ takes into account the flushing out states. (i.e. 235).\n",
        "<center>\n",
        " <img src=\"https://raw.githubusercontent.com/AguaClara/Fluoride-Auto/master/Fall%202019/Images/state%20list.png\" height =\"500\">\n",
        "\n",
        " **Figure 18:**  The state list from ProCoDA the Fall 2019 team used. The respective experimental states are for each experiment performed while the 'Flushing' state is flushing between experiments and the 'Just Flushing' state is for just flushing the system.\n",
        "    </center>\n",
        "\n",
        "3. Input constants. The constants for this experiment include the flow rate of fluoride (in mL/s), all the mL/rev set points and the flow rate of PACl + water (the “plant flow rate”).\n",
        "4. Input variable set points, including the flow rate of water (mL/s) and the flow rate of PACl (mL/s).\n",
        "5. Create a ‘State to Increment’ set point in order to increment a state so that for each experiment, the PACl and water flow rates are both being incremented. This is used with the ‘Coag + Water Flow mL/s’ while setting the ‘Water Flow mL/s’ variable using the subtract function.The PACl flow rate (mL/s) uses the increment function.\n",
        "\n",
        "#### The Capture Velocity Experiment\n",
        "1. Choose experimental flow rates for water pump and concentrations for the coagulant pump and fluoride pump using the Python code to determine the correct mL/s from mL/rev.\n",
        "2. Create the set points labelled with 'Capture Velocity', 'Capt V', or 'Capture V' at the bottom of Figure 17 for this experiment (i.e. all the set points from 'Capture Velocity Pump' to the end of the set points list).\n",
        "3. Input the variables. This includes the influent water, PACl, and fluoride pumps based on the Golander pump function.\n",
        "4. Input the constants in this experiment. All other set points are constants for this experiment.\n",
        "\n",
        "<center>\n",
        " <img src=\"https://raw.githubusercontent.com/AguaClara/Fluoride-Auto/master/Fall%202019/Images/variable.png\" height =\"500\">\n",
        "\n",
        " **Figure 19:** The variable manual water pump using a new Golander pump 2 flows function.\n",
        "    </center>\n"
      ]
    },
    {
      "cell_type": "markdown",
      "metadata": {
        "id": "BiTsuHFrGAm5",
        "colab_type": "text"
      },
      "source": [
        "## ProCoDA Method File\n",
        "\n",
        "**Upload your ProCoDA method file to your Github repository and provide a [link]() it in your report.**\n",
        "\n",
        "Use the rest of this section to explain your method file. Your explanation can be broken up into several components as shown below:\n"
      ]
    },
    {
      "cell_type": "markdown",
      "metadata": {
        "id": "CnTgFhHEGE_f",
        "colab_type": "text"
      },
      "source": [
        "### States\n",
        "Here, you should describe the function of each state in your method file, both in terms of its overall purpose and also in terms of the details that make it distinct from other states. For example:\n",
        "\n",
        " - **OFF**: Resting state of ProCoDA. All sensors, relays, and pumps are turned off.\n"
      ]
    },
    {
      "cell_type": "markdown",
      "metadata": {
        "id": "Ks6ALZO2GH_E",
        "colab_type": "text"
      },
      "source": [
        "### Set Points\n",
        "Here, you should list the set points used in your method file and explain their use as well as how each was calculated.\n"
      ]
    },
    {
      "cell_type": "markdown",
      "metadata": {
        "id": "LaELphDxGIE-",
        "colab_type": "text"
      },
      "source": [
        "## Python Code"
      ]
    },
    {
      "cell_type": "code",
      "metadata": {
        "id": "Cq2qbVl1GpO3",
        "colab_type": "code",
        "outputId": "677ee237-8f4b-465c-a82a-e49659c22400",
        "colab": {
          "base_uri": "https://localhost:8080/",
          "height": 701
        }
      },
      "source": [
        "!pip install aguaclara"
      ],
      "execution_count": 0,
      "outputs": [
        {
          "output_type": "stream",
          "text": [
            "Collecting aguaclara\n",
            "\u001b[?25l  Downloading https://files.pythonhosted.org/packages/1d/ac/1926e00ddfe5216b4317505603e469ed54afa94083803378c8f59f2d65e3/aguaclara-0.1.12.tar.gz (83kB)\n",
            "\u001b[K     |████████████████████████████████| 92kB 6.6MB/s \n",
            "\u001b[?25hCollecting matplotlib==3.0.3\n",
            "\u001b[?25l  Downloading https://files.pythonhosted.org/packages/e9/69/f5e05f578585ed9935247be3788b374f90701296a70c8871bcd6d21edb00/matplotlib-3.0.3-cp36-cp36m-manylinux1_x86_64.whl (13.0MB)\n",
            "\u001b[K     |████████████████████████████████| 13.0MB 176kB/s \n",
            "\u001b[?25hRequirement already satisfied: urllib3 in /usr/local/lib/python3.6/dist-packages (from aguaclara) (1.24.3)\n",
            "Collecting pint==0.8.1\n",
            "\u001b[?25l  Downloading https://files.pythonhosted.org/packages/1e/40/6938f7d544eef208a8183c2c80624289e8a4f4e0aea43f4658b9527077de/Pint-0.8.1.tar.gz (162kB)\n",
            "\u001b[K     |████████████████████████████████| 163kB 59.9MB/s \n",
            "\u001b[?25hRequirement already satisfied: pandas in /usr/local/lib/python3.6/dist-packages (from aguaclara) (0.25.3)\n",
            "Requirement already satisfied: scipy in /usr/local/lib/python3.6/dist-packages (from aguaclara) (1.3.2)\n",
            "Requirement already satisfied: kiwisolver>=1.0.1 in /usr/local/lib/python3.6/dist-packages (from matplotlib==3.0.3->aguaclara) (1.1.0)\n",
            "Requirement already satisfied: numpy>=1.10.0 in /usr/local/lib/python3.6/dist-packages (from matplotlib==3.0.3->aguaclara) (1.17.4)\n",
            "Requirement already satisfied: cycler>=0.10 in /usr/local/lib/python3.6/dist-packages (from matplotlib==3.0.3->aguaclara) (0.10.0)\n",
            "Requirement already satisfied: pyparsing!=2.0.4,!=2.1.2,!=2.1.6,>=2.0.1 in /usr/local/lib/python3.6/dist-packages (from matplotlib==3.0.3->aguaclara) (2.4.5)\n",
            "Requirement already satisfied: python-dateutil>=2.1 in /usr/local/lib/python3.6/dist-packages (from matplotlib==3.0.3->aguaclara) (2.6.1)\n",
            "Requirement already satisfied: pytz>=2017.2 in /usr/local/lib/python3.6/dist-packages (from pandas->aguaclara) (2018.9)\n",
            "Requirement already satisfied: setuptools in /usr/local/lib/python3.6/dist-packages (from kiwisolver>=1.0.1->matplotlib==3.0.3->aguaclara) (41.6.0)\n",
            "Requirement already satisfied: six in /usr/local/lib/python3.6/dist-packages (from cycler>=0.10->matplotlib==3.0.3->aguaclara) (1.12.0)\n",
            "Building wheels for collected packages: aguaclara, pint\n",
            "  Building wheel for aguaclara (setup.py) ... \u001b[?25l\u001b[?25hdone\n",
            "  Created wheel for aguaclara: filename=aguaclara-0.1.12-cp36-none-any.whl size=95166 sha256=82dc6951852c3d56271d872c8349c53f209c316ed1397c515a722d60a19fdc6b\n",
            "  Stored in directory: /root/.cache/pip/wheels/b7/8c/87/ea5385804b3a1f6a4ebebb2942cf8c4e4e3b995247f878601e\n",
            "  Building wheel for pint (setup.py) ... \u001b[?25l\u001b[?25hdone\n",
            "  Created wheel for pint: filename=Pint-0.8.1-py2.py3-none-any.whl size=134155 sha256=0bbdb79d61b3c277a40bb0805c3066c0d083381babf5db7d70be2f948fc188df\n",
            "  Stored in directory: /root/.cache/pip/wheels/b4/56/36/7c4d6a4e3660e233b95e3b0482551915cb184abca0f93ee1dd\n",
            "Successfully built aguaclara pint\n",
            "\u001b[31mERROR: albumentations 0.1.12 has requirement imgaug<0.2.7,>=0.2.5, but you'll have imgaug 0.2.9 which is incompatible.\u001b[0m\n",
            "Installing collected packages: matplotlib, pint, aguaclara\n",
            "  Found existing installation: matplotlib 3.1.1\n",
            "    Uninstalling matplotlib-3.1.1:\n",
            "      Successfully uninstalled matplotlib-3.1.1\n",
            "Successfully installed aguaclara-0.1.12 matplotlib-3.0.3 pint-0.8.1\n"
          ],
          "name": "stdout"
        },
        {
          "output_type": "display_data",
          "data": {
            "application/vnd.colab-display-data+json": {
              "pip_warning": {
                "packages": [
                  "matplotlib",
                  "mpl_toolkits"
                ]
              }
            }
          },
          "metadata": {
            "tags": []
          }
        }
      ]
    },
    {
      "cell_type": "markdown",
      "metadata": {
        "id": "2vIiWASQGvuA",
        "colab_type": "text"
      },
      "source": [
        "### Flow Rate Calculations\n",
        "\n",
        "The following code is used to calculate the required flow rate (in mL/s) needed for each pump,based on desired concentrations or flow rates in the reactor. The flow rates are also converted into revolutions per minute (RPM) to provide a way to ensure that ProCoDA and the pumps match up.\n",
        "\n",
        "Note: The flow rate into the reactor was chosen to be 0.6587 mL/s based on work from previous semesters that demonstrated sufficient flocculation at this flow rate."
      ]
    },
    {
      "cell_type": "code",
      "metadata": {
        "id": "mXhV98yQdOhK",
        "colab_type": "code",
        "colab": {}
      },
      "source": [
        "#Flow rate into reactor\n",
        "Q_reactor = 0.6587*u.mL/u.s\n",
        "\n",
        "#PACL\n",
        "#Concentration of PACl stock\n",
        "C_stock_PACl = 5000 * u.mg/u.L\n",
        "#Input concentration of PACl that you want in the reactor\n",
        "C_reactor_PAC = 20 * u.mg/u.L\n",
        "#Coagulant microtubing (orange-yellow, measured empirically)\n",
        "oy_tube= 0.0243 * u.mL/u.rev\n",
        "#Flow rate of PACl in mL/s (put into ProCoDA)\n",
        "Q_stock_PAC = Q_reactor*(C_reactor_PAC/C_stock_PACl)\n",
        "print('PACl should be set in ProCoDA to: '+ str(Q_stock_PAC))\n",
        "Q_stock_PAC_rpm = (Q_stock_PAC/oy_tube)*60*u.sec/u.min\n",
        "print('PACl in rpm is: '+str(Q_stock_PAC_rpm))\n",
        "\n",
        "#FLUORIDE\n",
        "#Concentration of fluoride stock\n",
        "C_stock_F = 1000 * u.mg/u.L\n",
        "#Input concentration of fluoride that you want in the reactor\n",
        "C_reactor_F = 5 * u.mg/u.L\n",
        "#Fluoride microtubing (orange-yellow, measured empirically)\n",
        "oy_tube= 0.0243 * u.mL/u.rev\n",
        "#Flow rate of fluoride in mL/s (check in ProCoDA)\n",
        "Q_stock_F = Q_reactor*(C_reactor_F/C_stock_F)\n",
        "print('Fluoride can be set in ProCoDA to: '+str(Q_stock_F))\n",
        "#Flow rate of fluoride in RPM (put into manual pump)\n",
        "Q_stock_F_rpm = (Q_stock_F/oy_tube)*60*u.sec/u.min\n",
        "print('Fluoride pump should be set at: '+str(Q_stock_F_rpm))\n",
        "\n",
        "#WATER\n",
        "#Flow rate of water in mL/s (put into ProCoDA)\n",
        "Q_tap = Q_reactor - 1*Q_stock_PAC - 1*Q_stock_F\n",
        "print('Water should be set in ProCoDA to: '+str(Q_tap))\n",
        "#Water tubing (size 16, measured empirically)\n",
        "water_tube = 0.95 * u.mL/u.rev\n",
        "Q_tap_rpm = (Q_tap/(water_tube))*(60*u.sec/u.minute)\n",
        "print('Water in rpm should be: '+str(Q_tap_rpm))"
      ],
      "execution_count": 0,
      "outputs": []
    },
    {
      "cell_type": "markdown",
      "metadata": {
        "id": "nmiL7Ow8hmoI",
        "colab_type": "text"
      },
      "source": [
        "### Packages to Install\n",
        "The following commands import functions used in the Python code. More information on the specific purpose of each package can be found in the [AguaClara package documentation](https://aguaclara.github.io/aguaclara_tutorial/index.html)."
      ]
    },
    {
      "cell_type": "code",
      "metadata": {
        "id": "gcq6Gcorhl3-",
        "colab_type": "code",
        "colab": {}
      },
      "source": [
        "import aguaclara.research.procoda_parser as pp\n",
        "import scipy.stats as stats\n",
        "import pandas as pd\n",
        "import numpy as np\n",
        "import scipy as sp\n",
        "import scipy.optimize as opt\n",
        "from aguaclara.play import *"
      ],
      "execution_count": 0,
      "outputs": []
    },
    {
      "cell_type": "markdown",
      "metadata": {
        "id": "iOrk7vq6RumC",
        "colab_type": "text"
      },
      "source": [
        "### Turbidity Experiment Analysis\n",
        "The following sample code shows data that plots turbidity over time for a turbidity experiment (discussed in the Methods section above). The plot shows continuous data for the turbidity for multiple dosages of PACl."
      ]
    },
    {
      "cell_type": "code",
      "metadata": {
        "id": "eEpWjBkIGjOa",
        "colab_type": "code",
        "outputId": "9eff5867-90c6-409d-e561-f710e9a8852f",
        "colab": {
          "base_uri": "https://localhost:8080/",
          "height": 328
        }
      },
      "source": [
        "#Nov. 11 Turbidity Experiment\n",
        "turbidityexp1111 = \"https://raw.githubusercontent.com/AguaClara/Fluoride-Auto/master/Fall%202019/Data%20and%20Analysis/Turbidity%20Experiment/11-11/datalog%2011-11-2019.tsv\"\n",
        "#Read the data and remove textlog notes\n",
        "raw1111 = pd.read_csv(turbidityexp1111, delimiter=\"\\t\")\n",
        "data1111 = pp.remove_notes(raw1111)\n",
        "time1111 = pd.to_numeric(data1111.iloc[:,2])/60\n",
        "turbidity1111 = pd.to_numeric(data1111.iloc[:,9])\n",
        "\n",
        "turbexp1111, ax1 = plt.subplots()\n",
        "ax1.set_xlabel(\"Time (minutes)\")\n",
        "ax1.set_ylabel(\"Effluent Turbidity (NTU)\")\n",
        "ax1.set_xlim(0,280)\n",
        "ax1.set_ylim(0,25)\n",
        "turbidity1111_plot, = ax1.plot(time1111, turbidity1111, color=\"blue\")\n",
        "\n",
        "plt.suptitle('Turbidity at Varying PACl Dosages 11/11/19', fontsize=16)"
      ],
      "execution_count": 0,
      "outputs": [
        {
          "output_type": "execute_result",
          "data": {
            "text/plain": [
              "Text(0.5, 0.98, 'Turbidity at Varying PACl Dosages 11/11/19')"
            ]
          },
          "metadata": {
            "tags": []
          },
          "execution_count": 5
        },
        {
          "output_type": "display_data",
          "data": {
            "image/png": "[encoded data removed]",
            "text/plain": [
              "<Figure size 432x288 with 1 Axes>"
            ]
          },
          "metadata": {
            "tags": []
          }
        }
      ]
    },
    {
      "cell_type": "markdown",
      "metadata": {
        "id": "FL6EJP1latu_",
        "colab_type": "text"
      },
      "source": [
        "The flat plateaus on the previous graph each indicate a steady-state turbidity at a different PACl concentration. The troughs of the graph correspond to times when the system had finished flushing and was ready to begin the next experiment with a new coagulant dosage. \n",
        "\n",
        "In order to find the average turbidity for each concentration of PACl, the team took the mean turbidity over each steady-state time period on the graph. These distinct points were then plotted on a graph depicting turbidity for each PACl concentration.\n",
        "\n",
        "The following sample code shows this plot for the November 11 experiment."
      ]
    },
    {
      "cell_type": "code",
      "metadata": {
        "id": "uNcOX1Src7qf",
        "colab_type": "code",
        "outputId": "6170a3e8-767b-435a-a59f-342988828300",
        "colab": {
          "base_uri": "https://localhost:8080/",
          "height": 328
        }
      },
      "source": [
        "#Nov. 11 Average Turbidities\n",
        "avgten1111 = np.mean(turbidity1111.iloc[603:1263])\n",
        "avgfifteen1111 = np.mean(turbidity1111.iloc[2604:3304])\n",
        "avgtwenty1111 = np.mean(turbidity1111.iloc[5044:5404])\n",
        "avgtwentyfive1111 = np.mean(turbidity1111.iloc[6904:7804])\n",
        "avgthirty1111 = np.mean(turbidity1111.iloc[9004:9604])\n",
        "avgthirtyfive1111 = np.mean(turbidity1111.iloc[11104:11694])\n",
        "avgforty1111 = np.mean(turbidity1111.iloc[13324:13684])\n",
        "\n",
        "x_vals = [10,15,20,25,30,35,40]\n",
        "y_vals = [avgten1111,avgfifteen1111,avgtwenty1111,avgtwentyfive1111,avgthirty1111,avgthirtyfive1111,avgforty1111]\n",
        "\n",
        "plt.plot(x_vals,y_vals,'go')\n",
        "plt.suptitle('Turbidity at Varying PACl Dosages 11/11/19', fontsize=16)\n",
        "plt.ylim(0,15)\n",
        "plt.xlabel('PACl Concentration (mg/L)')\n",
        "plt.ylabel('Turbidity (NTU)')"
      ],
      "execution_count": 0,
      "outputs": [
        {
          "output_type": "execute_result",
          "data": {
            "text/plain": [
              "Text(0, 0.5, 'Turbidity (NTU)')"
            ]
          },
          "metadata": {
            "tags": []
          },
          "execution_count": 6
        },
        {
          "output_type": "display_data",
          "data": {
            "image/png": "[encoded data removed]",
            "text/plain": [
              "<Figure size 432x288 with 1 Axes>"
            ]
          },
          "metadata": {
            "tags": []
          }
        }
      ]
    }
  ]
}