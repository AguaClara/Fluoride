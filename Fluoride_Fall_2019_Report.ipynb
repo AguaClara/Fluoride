{
  "nbformat": 4,
  "nbformat_minor": 0,
  "metadata": {
    "colab": {
      "name": "Fluoride Fall 2019 Report.ipynb",
      "provenance": [],
      "collapsed_sections": [],
      "include_colab_link": true
    },
    "kernelspec": {
      "name": "python3",
      "display_name": "Python 3"
    }
  },
  "cells": [
    {
      "cell_type": "markdown",
      "metadata": {
        "id": "view-in-github",
        "colab_type": "text"
      },
      "source": [
        "<a href=\"https://colab.research.google.com/github/AguaClara/Fluoride-Auto/blob/master/Fluoride_Fall_2019_Report.ipynb\" target=\"_parent\"><img src=\"https://colab.research.google.com/assets/colab-badge.svg\" alt=\"Open In Colab\"/></a>"
      ]
    },
    {
      "cell_type": "markdown",
      "metadata": {
        "id": "awle31N5ykbr",
        "colab_type": "text"
      },
      "source": [
        "# Fluoride, Fall 2019\n",
        "#### Sarah Huang, Cindy Jin, Melissa Louie, Emily Yueh\n",
        "#### 4 October 2019\n",
        "\n",
        "This publication Fluoride, Spring 2019 was developed under Assistance Agreement No. SU-83695001 awarded by the U.S. Environmental Protection Agency to Cornell University. It has not been formally reviewed by EPA. The views expressed in this document are solely those of Cindy Jin, Sarah Huang, Melissa Louie, and Emily Yueh and do not necessarily reflect those of the Agency. EPA does not endorse any products or commercial services mentioned in this publication.\n"
      ]
    },
    {
      "cell_type": "markdown",
      "metadata": {
        "id": "lGzNCdLa1f38",
        "colab_type": "text"
      },
      "source": [
        "##Abstract\n",
        "The World Health Organization estimates that globally over one million people face adverse health consequences due to fluoride contamination of drinking water. The current state of fluoride removal technology is not suitable for water treatment plants, and continuous fluoride removal systems do not exist. The Fluoride team aims to develop a cheap and efficient apparatus to reduce ionic fluoride from contaminated water to a safe level. The Fall 2019 team hopes to redesign the flocculation process to optimize the adsorption of fluoride to polyaluminum chloride (PACl) coagulant and the sedimentation process to minimize PACl-fluoride complexes in the effluent, ultimately producing potable water.\n",
        "\n"
      ]
    },
    {
      "cell_type": "markdown",
      "metadata": {
        "id": "TpShT1NO1jsq",
        "colab_type": "text"
      },
      "source": [
        "## Introduction\n",
        "The majority of AguaClara plants use surface water from rivers and mountain streams as their source. AguaClara's mission of providing access to safe drinking water for all has motivated the AguaClara team to expand and develop new goals to provide safe drinking water from groundwater sources. By analyzing the different needs associated with treating groundwater sources, AguaClara can serve a broader range of communities around the world that lack access to potable water.\n",
        "\n",
        "At some locations where there is little to no fluoride in drinking water sources, fluoride is added to boost overall dental health [(NYC DEP, 2016)](http://www.nyc.gov/html/dep/pdf/wsstate16.pdf). However, in some areas of the world, high concentrations of fluoride exist naturally in water sources. For example, there has been moderate to high fluoride pollution in regions such as Algeria, Thailand, Ghana, India, and Iran, whose major source of drinking water is groundwater sources. In rural India specifically, approximately 80% of water used for drinking comes from groundwater sources [(Jagtap et al, 2012)](https://pubs.acs.org/doi/pdf/10.1021/cr2002855). The high levels of fluoride in these regions are due to the mobile dissolution of fluorite, apatite, and topaz from weathered rocks. The detrimental effects of ingesting excess fluoride over a long-term period of time include dental, skeletal, developmental, neurological, endocrinological, reproductive, and carcinogenic issues [(Bhattacharya and Samal, 2018)](http://www.isca.in/rjrs/archive/v7/i4/6.ISCA-RJRS-2018-028.pdf). Therefore, the World Health Organization (WHO) considers a safe concentration of fluoride in drinking water to be no greater than 1.5 mg/L [(Water-related diseases, 2016)](https://www.who.int/water_sanitation_health/diseases-risks/diseases/fluorosis/en/). A study by Brindha et al. that was carried out in India’s Nalgonda district found groundwater concentrations of fluoride as high as 8.8 mg/L, and determined that only around 52% of the water sampled was safe to drink [(Brindha et al, 2010)](https://link.springer.com/article/10.1007/s10661-010-1348-0), which stresses the critical need for water treatment processes that can effectively remove fluoride from groundwater sources.\n",
        "\n",
        "The AguaClara team aspires to achieve the recommended limit of 1.5 mg/L or lower stated by the World Health Organization. The Fluoride team, which started in Fall 2016, has used two main systems for research. The gravity system, which uses no electricity and instead relies on height differences to drive water from the influent to the effluent, was tested with the implications that it could eventually be implemented on-site for fluoride removal in the communities with excess concentrations of fluoride. The automated system, which uses pumps to drive water, was used to investigate optimal conditions for fluoride removal in an AguaClara system and to evaluate the feasibility of the design. Throughout the past few years, the Fluoride team has tested both the automated apparatus and the gravity-powered apparatus with polyaluminum chloride (PACl) and fluoride to optimize fluoride removal and achieve a residual concentration of less than 1.5 mg/L of fluoride. However, the team is currently in the process of redesigning the system using an automated apparatus, to understand what is necessary within a plant to best implement it for fluoride removal."
      ]
    },
    {
      "cell_type": "markdown",
      "metadata": {
        "id": "4gfgHIlZ2Evd",
        "colab_type": "text"
      },
      "source": [
        "## Literature Review\n",
        "###Collection and Analysis of Fluoride Samples\n",
        "\n",
        "An Ion-Selective Electrode (ISE) fluoride probe is used to measure the fluoride concentration of a sample. The following quality-control procedures should be followed.\n",
        "\n",
        "ISE fluoride probes can only detect solubilized fluoride. When ions such as $Fe^{3+}$ and $Al^{3+}$ are also present in a sample of dissolved fluoride, the positive ions form complexes with fluoride that can no longer be detected by the probe. This issue is particularly prevalent in the context of current AguaClara research, which uses a polyaluminum chloride coagulant that forms aluminum-fluoride complexes. To avoid inaccurate readings of fluoride in samples that contain these complexes, polyethylene containers instead of glassware should be used when working with fluoride, since fluoride can adsorb to glass. To calibrate the ISE, standards of known fluoride concentrations within the mean expected fluoride concentration to be tested should be used to form a calibration curve. The standards should be re-tested after every ten measurements to ensure that the fluoride probe has not drifted from the calibration curve. The controls should also be within 10% of their known values. A control blank containing one part water and one part TISAB should be used to enhance the accuracy of experimental data.Total Ionic Strength Adjustment Buffer (TISAB) solution should be added in order to decomplex the fluoride and aluminum and to maintain a constant pH of 5-5.5 in the sample. Temperature should be kept constant with less than a 1 degree Celsius deviation [(EPA Method 9214)](https://www.epa.gov/sites/production/files/2015-12/documents/9214.pdf).\n",
        "\n",
        "\n",
        "\n"
      ]
    },
    {
      "cell_type": "markdown",
      "metadata": {
        "id": "c7ZrijTDKTyq",
        "colab_type": "text"
      },
      "source": [
        "###Polyaluminum Chloride (PACl) and Defluoridation\n",
        "\n",
        "One method of defluoridation for drinking water is a system that implements coagulation, flocculation, and sedimentation. Coagulation is a process that involves adding a positively charged chemical coagulant to the raw, untreated water. Once the coagulant has been sufficiently flocculated, or mixed, it begins to destabilize colloidal and dissolved particles in the raw water [(EPA, 2007)](https://oaspub.epa.gov/tdb/pages/treatment/treatmentOverview.do?treatmentProcessId=1934681921). The coagulant that is often used for defluoridation of water is polyaluminum chloride, or PACl, with the chemical formula $Al_2(OH)_3Cl_3$ [(Gebbie, 2001)](http://wioa.org.au/conference_papers/2001/pdf/paper6.pdf). PACl is a better choice of coagulant in comparison to other common coagulants such as aluminum sulfate, or alum, because of its ability to treat water in a larger pH range of around 5.0 to 8.0 in contrast to alum’s effective pH range of around 5.5 to 6.5. Additionally, the absence of sulfate in PACl prevents the buildup of hydrogen sulfide in wastewater, which has been known to corrode pipes and other components of the sewer system. Both PACl and alum lead to residual aluminium in the effluent water, which must then be removed to meet the 0.2 mg/L standard set by the Environmental Protection Agency. The usage of PACl, however, resulted in less residual aluminium, which further supports using PACl as the coagulant for fluoride removal instead of alum [(Dubey et. al, 2018)](https://www.sciencedirect.com/science/article/pii/S0167732218303490).\n",
        "\n",
        "After PACl is added to raw water, the molecules attract dissolved fluoride ions and the mixture enters the flocculation stage of treatment. In flocculation, the destabilized particles from coagulation are encouraged to agglomerate together to form \"flocs\". There are several ways to instigate the agglomeration of these particles, with some common methods being a gentle mix, or a baffled plug-flow reactor [(EPA, 2007)](https://oaspub.epa.gov/tdb/pages/treatment/treatmentOverview.do?treatmentProcessId=1934681921). The goal of flocculation is to maximize the probability of particle interaction between destabilized matter so that these species of interest will form flocs in the reactor that have a higher density than the water around them. To reiterate, \"Aggregation requires successful collisions. Success is defined by particles attaching when they collide\" [(Weber-Shirk et al, 2018)](https://render.githubusercontent.com/view/aguaclara.github.io/Textbook/index.html). These successful collisions allow for the removal of fluoride in the sedimentation process, where the agglomerated particles are separated from the water using gravity settling or other clarification methods [(EPA, 2007)](https://oaspub.epa.gov/tdb/pages/treatment/treatmentOverview.do?treatmentProcessId=1934681921).\n",
        "\n"
      ]
    },
    {
      "cell_type": "markdown",
      "metadata": {
        "id": "Gkoj1KX4KZJo",
        "colab_type": "text"
      },
      "source": [
        "###Interactions between Polymeric Aluminum Hydroxide with Fluoride\n",
        "\n",
        "A 2001 study on polyaluminum-based coagulants showed that, when hydrolyzed, the coagulants formed mono- and polymeric species [(Gebbie, 2001)](http://wioa.org.au/conference_papers/2001/pdf/paper6.pdf). The interaction between aluminum hydroxide polymer and fluoride led to the formation of several insoluble and soluble products depending on the ratio of total fluoride ion and aluminum ion concentrations, pH, and the total applied fluoride and aluminum concentrations [(Parthasarathy et al., 1986)](http://www.nrcresearchpress.com/doi/abs/10.1139/v94-310). When pH was less than 4, the predominant fluoro-complex was AlF due to the complete dissociation of polymeric aluminum. When the ratio of total fluoride ion and aluminum ion concentrations was between 0.5 and 1, fluoride precipitate was observed; this precipitate replaced some of the hydroxide ions in the aluminum hydroxide polymer. When the ratio of total fluoride ion to aluminum ion concentration was greater than 3, there is both precipitate and dissolved complexed fluoride present. It was observed that the optimal conditions for precipitating fluoride was a hydroxide-to-aluminum ratio of 2.5, a fluoride to aluminum ratio of 0.7, and a pH between 4 and 7. Therefore, experiments should aim to achieve the optimal hydroxide to aluminum and fluoride to aluminum ratios, as well as pH, predicted by literature.\n",
        "\n",
        "Fluoro-aluminum complexation was also found to exhibit pH dependence. At pH values less than 5.0, almost all fluoride existed as fluoro-aluminum complexes, inhibiting its removal by coagulation. At pH levels greater than 8.0, fluoride almost exclusively as free fluoride, indicating that hydroxide has a greater affinity for aluminum at a higher pH [(Herrboldt, 2016)](https://repositories.lib.utexas.edu/bitstream/handle/2152/39194/HERRBOLDT-THESIS-2016.pdf?sequence=1). Thus, all experiments should be run in the optimal pH range for fluoride removal.\n",
        "\n"
      ]
    },
    {
      "cell_type": "markdown",
      "metadata": {
        "id": "bOSAJV_zKZe9",
        "colab_type": "text"
      },
      "source": [
        "### Interactions Among Fluoride, NOM, and Alum During Coagulation Process\n",
        "\n",
        "Experimental results from jar tests illuminated mechanisms of behind fluoro-aluminum complexation [(Herrboldt, 2016)](https://repositories.lib.utexas.edu/bitstream/handle/2152/39194/HERRBOLDT-THESIS-2016.pdf?sequence=1). When fluoride was present in the system with alum, the residual aluminum increased significantly, indicating that fluoride is likely forming a soluble fluoro-aluminum complex. In the removal of fluoride, the presence of natural organic matter (NOM) caused a small decrease in fluoride removal from 50.1% to 45.8%, whereas NOM removal was greatly inhibited by the presence of fluoride [(Herrboldt, 2016)](https://repositories.lib.utexas.edu/bitstream/handle/2152/39194/HERRBOLDT-THESIS-2016.pdf?sequence=1). This indicates that in the removal of fluoride, fluoride was likely outcompeting NOM for complexation with aluminum or adsorption to aluminum solids.\n",
        "\n",
        "In the precipitation of aluminum with fluoride, fluoride was predicted to act in the following manner: since fluoride is a negatively charged species, fluoride must overcome the negative charge repulsion between particles in order to allow for aggregation. In the precipitation of fluoride with aluminum, the disruption of charges due to the negative repulsion stops collisions and ultimately causes particles to be concentrated at smaller particle diameters [(Herrboldt, 2016)](https://repositories.lib.utexas.edu/bitstream/handle/2152/39194/HERRBOLDT-THESIS-2016.pdf?sequence=1). In this manner, fluoride may inhibit the aggregation of flocs by acting as a stabilizing agent or by inhibiting precipitation. It was hypothesized that fluoride prevented the growth of precipitates by inhibiting interactions between hydroxide and nearby particles. It was also hypothesized that, due to the way that fluoride can replace hydroxide in solids , the formation of aluminum hydroxide complexes would be disrupted.\n",
        "\n"
      ]
    },
    {
      "cell_type": "markdown",
      "metadata": {
        "id": "2YEEWJs6KZvo",
        "colab_type": "text"
      },
      "source": [
        "### The Floc Blanket\n",
        "\n",
        "Floc blankets are formed in tanks where water is fed downwards into a hopper-shaped geometry displayed in Figure 1. The water is then redirected upwards, which resuspends floc particles that have settled to the bottom of the tank so they can agglomerate into a fluidized layer of flocs in the tank [(Garland et al, 2016)](http://doi.org/10.1089/ees.2015.0314). This collection of flocs, or blanket, typically rises to a point that is controlled by some type of weir or other means of particle separation from the treated water [(Gregory, 1975)](https://spiral.imperial.ac.uk/bitstream/10044/1/22645/2/Gregory-R-1977-MPhil-Thesis.pdf).\n",
        "\n",
        "<center>\n",
        "  <img src=\"https://aguaclara.github.io/Textbook/_images/diffuser_jetreverser.png\"height=\"200\">\n",
        "  \n",
        "  **Figure 1:** The inlet jet geometry that redirects water upwards and allows the formation of a floc blanket.\n",
        "  </center>\n",
        "  \n",
        "  <center>\n",
        "  <img src=\"https://aguaclara.github.io/Textbook/_images/Floc_Blanket_Floc_Hopper.png\" height = \"300\">\n",
        "  \n",
        "  **Figure 2:** A side view of a sedimentation tank. Once the floc blanket builds to the height of the floc weir on the left side of the image, excess flocs overflow into the weir instead of continuing to increase the height of the floc blanket.\n",
        "  </center>\n",
        "\n",
        "Using a floc blanket for particle removal is beneficial because, as water travels upwards through the blanket, there is an increased chance of collisions between remaining particles in the water and the particles in the floc blanket; particles in the water are then more likely to be captured by the floc blanket instead of escaping with the clean effluent. While this process greatly increases removal efficiency, it should be noted that the floc blanket does not capture all particles, because of shear forces acting on smaller flocs that prevent them from remaining attached to larger flocs.\n",
        "\n",
        "The stability and quality of the floc blanket depended on both the settling velocity of flocs and the upflow velocity through the sedimentation tank [(Su et al, 2004)](http://www.sciencedirect.com/science/article/pii/S0043135403005025). For this reason, it is important that these two aspects are controlled carefully. Studies have shown that when one of these parameters experiences fluctuations, floc blankets can fail to function as intended, which may subsequently lead to poor effluent water quality [(Su et al, 2004)](http://www.sciencedirect.com/science/article/pii/S0043135403005025). In one case, a clarifier in Taiwan lost its entire floc blanket during a period of low turbidity measurements in the influent raw water [(Lin et al, 2004)](https://ascelibrary.org/doi/10.1061/%28ASCE%290733-9372%282004%29130%3A12%281481%29). Furthermore, the conditions must be maintained to allow for the resuspension of agglomerated flocs into the fluidized bed, but not to a superfluous degree where flocs would be torn apart by high shear forces [(Garland et al, 2016)](http://doi.org/10.1089/ees.2015.0314).\n",
        "\n"
      ]
    },
    {
      "cell_type": "markdown",
      "metadata": {
        "id": "GLS2mhh6KZ3R",
        "colab_type": "text"
      },
      "source": [
        "### Langmuir Isotherm\n",
        "\n",
        "The Langmuir isotherm is a model used to describe the adsorption process, in which a chemical species of interest (the adsorbate) is attracted to the surface of a solid (adsorbent). The two then attach by a physical or chemical bond [(Foo and Hameed, 2010)](https://doi.org/10.1016/j.cej.2009.09.013). These models allow for the delineation of relationships between the pollutant of interest and the adsorbent being used, and are thus very useful in giving a visual representation of adsorption efficiency based on specific experimental conditions [(Foo and Hameed, 2010)](https://doi.org/10.1016/j.cej.2009.09.013).\n",
        "\n",
        "The Langmuir isotherm is governed by the following equation [(Liu et al, 2019)](https://www.sciencedirect.com/science/article/pii/B9780128148372000044):\n",
        "\n",
        "\n",
        "$$q_E=\\frac{Q^0 bC_e}{1+bC_e}$$\n",
        "\n",
        "$q_E$ = Uptake (mg Fluoride/g PACl)\n",
        "$Q^0$ = Maximum adsorption density (mg/L Fluoride)\n",
        "$b$ = Langmuir constant\n",
        "$C_e$ = Effluent Fluoride Concentration (mg/L Fluoride)\n",
        "\n",
        "Past AguaClara fluoride teams used an isotherm to model the relationship between the mass of fluoride absorbed (mg) per gram of PACl used and the effluent concentration of fluoride (mg/L). In this instance, fluoride is the pollutant of interest, and PACl can be considered the adsorbent material. The most recent version of this isotherm model can be seen below in Figure 3.\n",
        "\n",
        "<center>\n",
        "  <img src=\"https://raw.githubusercontent.com/AguaClara/Fluoride-Auto/master/Spring%202019/Langmuir%20Isotherm%20Data/isotherm.png\">\n",
        "  \n",
        "**Figure 3:**  Langmuir isotherm model developed by the Spring 2019 Fluoride Automated team.\n",
        "</center>\n",
        "The goal of using the isotherm is to optimize the uptake of fluoride, or efficiency of the PACl. Ideally, this model would indicate an accurate dosage of PACl for a detected influent concentration of fluoride that could lower the effluent fluoride concentration to a level below the WHO standard of 1.5 mg/L for drinking water."
      ]
    },
    {
      "cell_type": "markdown",
      "metadata": {
        "id": "V5DbXTwtY7kB",
        "colab_type": "text"
      },
      "source": [
        "## Previous Work\n",
        "### Automated System\n",
        "The AguaClara Fluoride Automated System began in Fall 2016 after receiving an EPA Phase II grant in Spring 2016 [(Cheng et. al., 2016)](https://drive.google.com/file/d/0Bzej1vulT_XyWHZyLXdIWlk1RkE/view). The team focused on removing particles with a floc blanket, using PACl and running tests with red dye in place of fluoride so that turbidity and visual observation could be used to gauge particle removal. The team determined that the floc blanket must be at least 5 cm high in order to effectively remove red dye. In addition, a sloped bottom geometry for the base of the sedimentation tube was fabricated to stop the accumulation of flocs at the bottom of the reactor and to instead promote continuous recirculation of flocs. \n",
        "\n",
        "The Spring 2017 team considered the effluent fluoride concentrations observed from using a single reactor system and a two reactor system [(Longo et. al., 2017)](https://github.com/AguaClara/Fluoride-Auto/blob/master/Spring%202017/Fluoride%20Spring%202017.pdf). Although the multi-reactor system contained a low enough concentration of effluent fluoride to meet the WHO regulatory levels of fluoride in water, the team was unable to conclude whether or not it was the most efficient way to maximize fluoride removal. The single reactor system was ultimately chosen after considering the costs and labor of both single and multi-reactor systems  [(Longo et. al., 2017)](https://github.com/AguaClara/Fluoride-Auto/blob/master/Spring%202017/Fluoride%20Spring%202017.pdf). In addition, the team introduced clay in the system in order to observe the invisible particles, but stopped using clay after noticing high levels of turbidity in the effluent in Summer 2017. Using high concentrations of PACl (25 mg/L), the team was able to produce an effluent with a concentration of as low as 0.05 mg/L. \n",
        "\n",
        "The Fall 2017 team observed that the voltage detected by the fluoride probe was noticeably different for tap water and deionized water, since some ions present in tap water may have reacted with fluoride, forming various compounds that were not detected by the fluoride probe, so the team concluded that a new adsorption model that accounts for this difference in voltage.\n",
        "\n",
        "The Spring 2018 team conducted experiments in which they varied either the influent PACl levels or the influent fluoride levels, for the collection of data, in order to develop a Langmuir Isotherm, which is an adsorption model believed to describe the interaction between polyaluminum chloride and red dye particles or fluoride ions in water [(Akpan et. al., 2018)](https://github.com/AguaClara/Fluoride-Auto/blob/master/Spring%202018/FluorideReportSp18.md). Skepticism over the accuracy of the probe led to inconclusive data.\n",
        "\n",
        "In Summer 2018, the team concentrated on running experiments and collecting data to plot against the Langmuir Isotherm [(Pang et. al., 2018)](https://github.com/AguaClara/Fluoride-Auto/blob/master/Summer%202018/Fluoride_Summer2018.md). The team plotted uptake, or the mass of fluoride removed per the mass of influent PACl, against the effluent fluoride concentration. It was concluded that the PACl was effectively removing fluoride from influent water, even if an optimal dosage of PACl had not yet been determined.\n",
        "\n",
        "The Fall 2018 team experienced the significant obstacle of gel buildup in the reactor [(Mehrabyan et. al., 2018)](https://github.com/AguaClara/Fluoride-Auto/blob/master/Fall%202018/Automated%20System/Fall_2018_Report.md). Functioning floc blankets should be a fluidized bed of particles that are constantly recirculating, while a gel is a mass of flocs that tend to adhere to the side of the reactor and do not recirculate. The recurrence of gel in most of the experiments caused early failure due to blockage of the floc weir entrance and the ensuing escape of flocs through the effluent tubing.\n",
        "\n",
        "The Spring 2019 team continued the task of testing different ratios of PACl to fluoride and plotting the data of previous semesters against the Langmuir Isotherm [(Grasso et al., 2019)](https://github.com/AguaClara/Fluoride-Auto/blob/master/Spring%202019/Fluoride-Auto-Spring-2019-Report.md). The Spring 2019 team also transitioned from using MathCad for determining experimental flow rates to using Python, which is currently being used for experimental calculations as well as graphing and data analysis.\n",
        "\n",
        "The Summer 2019 team conducted experiments with constant fluoride concentrations and varying PACl concentrations [(Jin et al., 2019)](https://github.com/AguaClara/Fluoride-Auto/blob/master/Summer%202019/Summer_2019_Final_Report.ipynb). Clay was also reintroduced into the system, but was again determined to be unnecessary for fluoride removal. The team also made changes to the lab apparatus, the main change being the addition of a flow accumulator. The flow accumulator is a bottle that uses constant internal air pressure to facilitate the flow of water out of the bottle, free of pulsations from the pump, which had been an issue in the past. In the initial tests that the Summer 2019 team ran, flocs seemed to be accumulating on the plate settlers above the weir, so the team increased the angle of the bend to 70° in an attempt to allow the flocs to slide down more easily. This change effectively prevented the accumulation of flocs on the plate settlers. Additionally, the team made the Automated and Gravity systems uniform by fabricating two identical sedimentation tubes, both with the weir on the plate settler section. \n",
        "\n",
        "\n",
        "### Gravity System\n",
        "The gravity powered apparatus first developed in the Fall 2017 and the Spring 2018 team using the concept of constant head tanks as shown in Figure 1 [(Akpan et al., 2018)](https://github.com/AguaClara/Fluoride-Auto/blob/master/Spring%202018/FluorideReportSp18.md). The PACl and fluoride constant head tanks have float valves that are attached to allow for a constant volumetric flow rate to flow through the system, which then can be calculated using empirical methods [(Pang et al., 2018)](https://github.com/AguaClara/Fluoride_Gravity/blob/master/Fall%202018/Fluoride_Grav_Fall2018_Report.md).\n",
        "<center>\n",
        "<img src = \"https://raw.githubusercontent.com/AguaClara/Fluoride_Gravity/master/Spring%202019/Schematic.PNG\" height = 500 width = 600 >\n",
        "\n",
        "</center>\n",
        "\n",
        "**Figure 4:** A diagram of the Spring 2018 gravity-powered system with height differentials driving the system.\n",
        "The Summer 2018 team improved the system by making the gravitational energy easily adjustable with sliders on the PACl stock tank, PACl constant head tank, and effluent pipe, which allowed for easier control and measurement for flow through the system.\n",
        "\n",
        "<img src = \"https://raw.githubusercontent.com/AguaClara/Fluoride_Gravity/master/Spring%202019/current%20drawing.png\" height = 550 width = 550> \n",
        " \n",
        "**Figure 5:** The Summer 2018's updated set up with the adjustable sliders for the effluent and coagulant tanks.\n",
        "\n",
        "In Fall 2018, the Fluoride Gravity team was officially created, and prioritized finding a way to easily measure the coagulant flow rate free falling into the fluoride system without any head loss. The Fall 2018 team added an IV drip chamber for the PACl system with microtubing, but head loss still occurred [(Pang et al., 2018)](https://github.com/AguaClara/Fluoride_Gravity/blob/master/Fall%202018/Fluoride_Grav_Fall2018_Report.md).\n",
        "\n",
        "The Spring 2019 team created several different ways to introduce PACl into the system without any head loss and to effectively mix the PACl and fluoride. The team tested the gravity powered system with red dye and PACl. The PACl was added directly into the flow of fluoride-contaminated water using three different types of chambers for mixing: a T-junction, a clear horizontal T-junction, and a vertical clear T-junction. The Spring 2019 team successfully determined that vertical clear T-junction modification was the optimal method of introducing PACl into the system because it produced consistent flocculation and effective mixing [(Huang et al., 2019)](https://github.com/AguaClara/Fluoride_Gravity/blob/master/Spring%202019/Spring%202019%20Report.md). The updated Spring 2019 schematic is shown in Figure 5.\n",
        "\n",
        "\n",
        "The goal of the Summer 2019 Fluoride team for the gravity system was to run tests with fluoride in the gravity system and obtain data about the efficiency of the system. \n"
      ]
    },
    {
      "cell_type": "markdown",
      "metadata": {
        "id": "a7POfNmj2Gr7",
        "colab_type": "text"
      },
      "source": [
        "##Methods\n"
      ]
    },
    {
      "cell_type": "markdown",
      "metadata": {
        "id": "eg67juMrLkO-",
        "colab_type": "text"
      },
      "source": [
        "###Turbidity Experiment\n",
        "In previous experiments, the fluoride probe was immersed in effluent stream from the sedimentation tube reactor to measure the effluent fluoride concentration. However, the fluoride probe could not detect flocs which contained some fluoride. Thus, with the experiments running, there was not an accurate sense of how much fluoride was actually leaving in the effluent reactor stream. This led to performing the turbidity experiment which models turbidity versus fluoride leaving as flocs. A high turbidity value indicates that there is a high concentration of fluoride-PACl flocs passing through the turbidimeter. Similarly, a low turbidity value means that there is a low concentration of flocs passing through the turbidimeter. "
      ]
    },
    {
      "cell_type": "markdown",
      "metadata": {
        "id": "eF5dkiFVRsue",
        "colab_type": "text"
      },
      "source": [
        "### Capture Velocity Experiment\n",
        "In previous experiments, it was observed that fluoride flocs were incapable of completely exiting the sedimentation tube through the floc weir. The flocs that were unable to exit the system through the waste line either were flowing into the effluent, or were trapped against the lip of the floc weir. These observations pointed to the potential inadequacies of the sedimentation system to entirely remove the fluoride flocs. More specifically, the fact that the flocs were leaving the system through the effluent suggest that the velocity was too high, and gravity was not strong enough to counteract the velocity to allow the flocs to completely settle into the floc weir. \n",
        "\n",
        "To build a new sedimentation system specific to fluoride flocs, the capture velocity, the velocity to capture the slowest moving particle, must be determined. Capture velocity can be modeled by:\n",
        "\n",
        "$$V_c=\\frac{SV_a sin\\alpha}{Lsin\\alpha cos\\alpha +S}$$\n",
        "\n",
        "where $\\alpha$ is the angle of the tube settler, $V_a$ is the upflow velocity, $L$ is the length of the tube settler, and $S$ is the diameter of the tubing. \n",
        "\n",
        "In the experiment, the system was run with constant flow rates of polyaluminum chloride and fluoride in order to ensure steady dosing, and the system velocity through the flocculator was kept constant in order to produce the same amount of flocs for each trial. The flow rates of all of these components were kept constant by using a peristaltic pump. The flocculator was connected to 0.5 inch diameter tubing of set length. The tubing was at an angle of 60 degrees with the horizontal. The angle, length, and tubing diameter were kept constant, while the upflow velocity was varied to yield distinct capture velocities. This was done by varying the speed of a peristaltic pump connected to the end of the tube settler. Turbidity data was collected to determine whether fluoride flocs were exiting the effluent, and through this information, the highest velocity at which no flocs would leave the system through the effluent was determined.\n"
      ]
    },
    {
      "cell_type": "markdown",
      "metadata": {
        "id": "q6yxy51_LKNF",
        "colab_type": "text"
      },
      "source": [
        "##Experimental Apparatus\n",
        "\n",
        "<img src = \"https://raw.githubusercontent.com/AguaClara/Fluoride-Auto/master/Fall%202019/Images/Schematic.jpg\" height= 350 width = 700 >\n",
        "\n",
        "**Figure 6:** A schematic drawing of the turbidity experiment that the Fall 2019 team used.\n",
        "\n",
        "<img src = \"https://raw.githubusercontent.com/AguaClara/Fluoride-Auto/master/Fall%202019/Images/Lab%20Bench.jpg\" height = 400 width = 300>\n",
        "\n",
        "**Figure 7:** The lab bench setup of the turbidity experiment with the third pump connected to the turbidimeter.\n",
        "\n",
        "<img src = \"https://raw.githubusercontent.com/AguaClara/Fluoride-Auto/master/Fall%202019/Images/Fluoride%20Probe.jpg\" height = 400 width = 700>\n",
        "\n",
        "**Figure 8:** The fluoride probe measured the fluoride concentration in the effluent stream from the turbidimeter."
      ]
    },
    {
      "cell_type": "markdown",
      "metadata": {
        "id": "14QXCacy8axM",
        "colab_type": "text"
      },
      "source": [
        "## Procedure\n",
        "### Turbidity Experiment\n",
        "1. Fluoride was pumped from the Fluoride stock tank and mixed with tap water.\n",
        "2. PACl was pumped from the Coagulant stock tank and mixed with the diluted fluoride stream.\n",
        "3. The mixture was sent to the flocculator to form flocs.\n",
        "4. The effluent stream from the flocculator entered the turbidimeter to measure the turbidity of the stream.\n",
        "5. The fluoride probe was immersed in the effluent stream from the turbidimeter to measure the effluent fluoride concentration.\n",
        "6. The effluent stream flowed into the sink.\n"
      ]
    },
    {
      "cell_type": "markdown",
      "metadata": {
        "id": "_Nn9zXKc-Fjq",
        "colab_type": "text"
      },
      "source": [
        "## Results and Analysis\n",
        "The team ran initial experiments in which the flocculator was connected directly to the turbidimeter. While watching the graphs generated in real time by ProCoDA, the team observed that, for each dosage of PACl, the turbidity would increase until it reached a steady-state turbidity. This steady-state turbidity increased as the influent PACl dosage increased. However, the team is still unsure of how to characterize steady-state for this experiment. Originally, it was hypothesized that the steady-state time would be the residence time of the flocculator, which was calculated using the volume of the flocculator and the influent flow rate of water. However, while the residence time of the flocculator was determined to be around two minutes, a qualitative observation of the ProCoDA graphs revealed that the turbidity did not level out until around ten or more minutes. One possible reason for this discrepancy could have been that, while running the initial stream of water through the flocculator, flocs were adhering to the walls of the flocculator. The time it took for the turbidity to reach steady state would then be the time it took for the maximum number of flocs to stay on the walls of the flocculator, rather than the residence time of the flocculator.\n",
        "\n",
        "<img src=\"https://raw.githubusercontent.com/AguaClara/Fluoride-Auto/master/Fall%202019/Images/10%3A20%20Experiment.png\">\n",
        "\n",
        "**Figure 9:** An experiment run at a constant influent velocity with varying dosages of PACl that correspond to the peaks of the graph. More trials and subsequent analysis are required to make conclusions.\n",
        "\n",
        "The team plans to run more tests and plot turbidity vs. time graphs, from which average turbidity over each steady-state period can be extrapolated. These points will then be graphed on a turbidity vs. influent fluoride plot, to create a model that can predict how much fluoride leaves the system in the form of flocs.\n",
        "\n",
        "\n"
      ]
    },
    {
      "cell_type": "markdown",
      "metadata": {
        "id": "Me12TWjY-Iys",
        "colab_type": "text"
      },
      "source": [
        "## Conclusions\n",
        "\n",
        "The Fluoride Fall 2019 team observed that the turbidity experiments' experimental design needs to be modified as the residence time was not corresponding with the flocculator residence time. A possible reason is that flocs may be adhering to the walls of the flocculator which would increase the time for the turbidity meter to reach steady state. If this hypothesis is correct, the steady state time would not correspond to the residence time but rather the time it took for all the PACl to stick to the sides of the flocculator. Further experiments are needed to make more definitive conclusions.\n"
      ]
    },
    {
      "cell_type": "markdown",
      "metadata": {
        "id": "uQBlaQNP-VJA",
        "colab_type": "text"
      },
      "source": [
        "## Future Work\n",
        "\n",
        "To optimize fluoride removal and to prevent flocs from leaving through the effluent line, the Fluoride team plans to devise multiple experiments to determine the optimal capture velocity. The capture velocity experiments would determine the velocity the fluoride flocs would not escape and fall down the floc weir. Therefore, a fluoride-specific sedimentation tube would be able to be fabricated based on these tests that would allow for increased fluoride removal and understanding of the physics behind fluoride floc removal. Future work on other varying parameters of fluoride to PACl binding, such as the effect of pH, needs to be done to increase the efficiency of creating flocs. After experimenting with other factors that may affect the binding of PACl to fluoride, the automated and gravity powered systems can be synchronized by matching the optimal conditions of each factor tested for optimal fluoride removal."
      ]
    },
    {
      "cell_type": "markdown",
      "metadata": {
        "id": "ZXUik5SH-YFM",
        "colab_type": "text"
      },
      "source": [
        "## Bibliography\n",
        "\n",
        "Akpan, P., Mehrabyan, T,. Sausele, D., & Zhang, V. (2018). Fluoride, Spring 2018. Retrieved from https://github.com/AguaClara/Fluoride-Auto/blob/master/FluorideReportSp18.md.\n",
        "\n",
        "Bhattacharya, P., & Samal, A. (2018, April). Fluoride contamination in groundwater, soil and cultivated foodstuffs of\n",
        "India and its associated health risks: A Review. Research Journal of Recent Sciences, 7(4),36-47. Retrieved from http://www.isca.in/rjrs/archive/v7/i4/6.ISCA-RJRS-2018-028.pdf.\n",
        " \n",
        "Brindha, K., Rajesh, R., Murugan, R., & Elango, L. (2010, February 20). Fluoride contamination in groundwater in parts of Nalgonda District, Andhra Pradesh, India. Retrieved from https://link.springer.com/article/10.1007/s10661-010-1348-0\n",
        " \n",
        "Cheng, M., Longo, A., & Vidal, B. (2016). Fluoride, Fall 2016. Retrieved from https://drive.google.com/file/d/0Bzej1vulT_XyWHZyLXdIWlk1RkE/view.\n",
        " \n",
        "Dubey, S., Agarwal, M., & Gupta, A. (2018). Experimental investigation of Al-F species formation and transformation during coagulation for fluoride removal using alum and PACl. Journal of Molecular Liquids, 266, 349–360. doi: 10.1016/j.molliq.2018.06.080.\n",
        " \n",
        "EPA. (2007, February 5). “Water Treatability Database.” Environmental Protection Agency. Retrieved from https://oaspub.epa.gov/tdb/pages/treatment/treatmentOverview.do?treatmentProcessId=1934681921.\n",
        " \n",
        "EPA Method 9214. (1996, December). Retrieved from https://www.epa.gov/sites/production/files/2015-12/documents/9214.pdf.\n",
        "\n",
        "Foo, K.Y. and Hameed, B.H. (2010, January). Insights into the modeling of adsorption isotherm systems, Chemical Engineering Journal, Volume 156, Issue 1, 2010, Pages 2-10, ISSN 1385-8947, https://doi.org/10.1016/j.cej.2009.09.013. Retrieved from https://www.sciencedirect.com/science/article/pii/S1385894709006147?via%3Dihub.\n",
        "\n",
        "Garland, C., Weber-Shirk, M., Lion, L.W. Environmental Engineering Science. (2016, February). ahead of print: http://doi.org/10.1089/ees.2015.0314. Retrieved from https://www.liebertpub.com/doi/10.1089/ees.2015.0314.\n",
        "\n",
        "Gebbie, P. (2001, December 5). Using Polyaluminum Coagulants in Water Treatment. Retrieved from http://wioa.org.au/conference_papers/2001/pdf/paper6.pdf.\n",
        "\n",
        "Grasso, D., Louie, M., Sausele, D., & Spiek, E. (2019). Fluoride Automated System, Spring 2019. Retrieved from https://github.com/AguaClara/Fluoride-Auto/blob/master/Spring%202019/Fluoride-Auto-Spring-2019-Report.md.\n",
        "\n",
        "Gregory, R. (1975, March). Floc Blanket Clarification. Retrieved from https://spiral.imperial.ac.uk/bitstream/10044/1/22645/2/Gregory-R-1977-MPhil-Thesis.pdf.\n",
        "\n",
        "Herrboldt, J. P. (2016). Fluoride, Natural Organic Matter, and Particles: The Effect of Ligand Competition on the Size Distribution of Aluminum Precipitates in Flocculation. Retrieved from https://repositories.lib.utexas.edu/bitstream/handle/2152/39194/HERRBOLDT-THESIS-2016.pdf?sequence=1.\n",
        "\n",
        "Huang, S., Jin, C., and Kohli, S. (2019). Fluoride Gravity, Spring 2019. Retrieved from https://github.com/AguaClara/Fluoride_Gravity/blob/master/Spring%202019/Spring%202019%20Report.md.\n",
        "\n",
        "Jagtap, S., Yenkie M. K., Labhsetwar N., and Rayalu S. Chemical Reviews 2012 112 (4), 2454-2466\n",
        "DOI: 10.1021/cr2002855. Retrieved from https://pubs.acs.org/doi/pdf/10.1021/cr2002855.\n",
        "\n",
        "Lin, W. W.; Sung, S. S.; Chen, L. C.; Chung, H. Y.; Wang, C. C.; Wu, R. M.; Lee, D. J.; Huang, Chihpin; Juang, R. S.; Peng, X. F. and Chang, Hsi-Lih. (2004, December). \"Treating high-turbidity water using full-scale floc blanket clarifiers\". Journal of Environmental Engineering, vol. 130, No. 12, pp. 1481-1487. Retrieved from https://ascelibrary.org/doi/10.1061/%28ASCE%290733-9372%282004%29130%3A12%281481%29.\n",
        "\n",
        "Liu, L., Luo, X.-B., Ding, L., & Luo, S.-L. (2019). Application of Nanotechnology in the Removal of Heavy Metal From Water. Nanomaterials for the Removal of Pollutants and Resource Reutilization, 83–147. doi: 10.1016/b978-0-12-814837-2.00004-4.\n",
        "\n",
        "Longo, A., Li-Vidal, B., Cheng, M., & Zhang, V. (2017). Fluoride Floc Blanket, Spring 2017. Retrieved from https://github.com/AguaClara/Fluoride-Auto/blob/master/Spring%202017/Fluoride%20Spring%202017.pdf.\n",
        "\n",
        "Mehrabyan,T., Shah,J., Sowe, S. (2018, December 8). Fluoride Automated System, Fall 2018. Retrieved from https://github.com/AguaClara/Fluoride-Auto/blob/master/Fall%202018/Automated%20System/Fall_2018_Report.md.\n",
        "Pang, C., Sarmiento, K., & Tsang, C. (2018). Fluoride Gravity, Fall 2018. Retrieved from https://github.com/AguaClara/Fluoride_Gravity/blob/master/Fall%202018/Fluoride_Grav_Fall2018_Report.md.\n",
        "\n",
        "Pang, C., Sarmiento, K., & Tsang, C. (2018). Fluoride Gravity, Summer 2018. Retrieved from https://github.com/AguaClara/Fluoride-Auto/blob/master/Summer%202018/Fluoride_Summer2018.md.\n",
        "\n",
        "Parthasarathy, N., Buffle, J., & Haerdi, W. (1986). Study of interaction of polymeric aluminium hydroxide with fluoride. Canadian Journal of Chemistry, 64(1), 24-29. doi:10.1139/v86-006.\n",
        "\n",
        "Su, S.T., Wu, R.M., Lee, D.J. Blanket dynamics in upflow suspended bed, Water Research, Volume 38, Issue 1, 2004, Pages 89-96, ISSN 0043-1354, https://doi.org/10.1016/j.watres.2003.09.002. Retrieved from http://www.sciencedirect.com/science/article/pii/S0043135403005025\n",
        "\n",
        "United States, NYC Environmental Protection. (2016). New York City 2016 Drinking Water Supply and Quality Report. New York. Retrieved from http://www.nyc.gov/html/dep/pdf/wsstate16.pdf.\n",
        "\n",
        "Weber-Shirk, Monroe, et al. (2018). AguaClara Textbook. AguaClara Cornell, aguaclara.github.io/Textbook/index.html.\n",
        "\n",
        "World Health Organization. (2016, August 29). Water-related diseases. Retrieved from http://www.who.int/water_sanitation_health/diseases-risks/diseases/fluorosis/en/.\n"
      ]
    },
    {
      "cell_type": "markdown",
      "metadata": {
        "id": "EvBA8kN4-dty",
        "colab_type": "text"
      },
      "source": [
        "# Manual\n",
        "The goal of this section is to provide all of the guidance that would be necessary for a future team to pick up your work where you left off. Please try to be thorough and put yourselves in the shoes of a newcomer to the project. Below are some recommended sections, but the manual will likely take a slightly different form for each team."
      ]
    },
    {
      "cell_type": "markdown",
      "metadata": {
        "id": "yfoW16_iACYt",
        "colab_type": "text"
      },
      "source": [
        "## Fabrication Details\n",
        "Include any information related to the fabrication of equipment, technologies, or experimental apparatuses, such as\n",
        "\n",
        "* materials, with dimensions\n",
        "* fabrication methods and the purpose of each step\n",
        "* complications and constraints in construction\n",
        "* revisions made to a previous design, with a reference to the report where the design is described\n",
        "* appropriate safety precautions"
      ]
    },
    {
      "cell_type": "markdown",
      "metadata": {
        "id": "sTvHso03AGO_",
        "colab_type": "text"
      },
      "source": [
        "## Special Components\n",
        "If your subteam uses a particular part that is unique and you could foresee a future subteam needing to order it or learn more about it, please include basic information such as its vendor, its catalog/item number, and a link to any documentation."
      ]
    },
    {
      "cell_type": "markdown",
      "metadata": {
        "id": "loq2DmszAKf2",
        "colab_type": "text"
      },
      "source": [
        "## Experimental Methods"
      ]
    },
    {
      "cell_type": "markdown",
      "metadata": {
        "id": "Om0b4RKxAVoS",
        "colab_type": "text"
      },
      "source": [
        "### Set-up\n",
        "Step 1.\n",
        "* Put tasks in a sequential order.\n",
        "* It is okay to have sub-lists.\n",
        "  - Like this."
      ]
    },
    {
      "cell_type": "markdown",
      "metadata": {
        "id": "GOe3xI0qAdfk",
        "colab_type": "text"
      },
      "source": [
        "### Experiment\n",
        "Step 1."
      ]
    },
    {
      "cell_type": "markdown",
      "metadata": {
        "id": "cv06b20oAj1G",
        "colab_type": "text"
      },
      "source": [
        "### Cleaning Procedure\n",
        "Step 1."
      ]
    },
    {
      "cell_type": "markdown",
      "metadata": {
        "id": "CXrgSYivAoEr",
        "colab_type": "text"
      },
      "source": [
        "## Experimental Checklist\n",
        "Another potential section could include a list of things that you need to check before running an experiment.\n"
      ]
    },
    {
      "cell_type": "markdown",
      "metadata": {
        "id": "BiTsuHFrGAm5",
        "colab_type": "text"
      },
      "source": [
        "## ProCoDA Method File\n",
        "\n",
        "**Upload your ProCoDA method file to your Github repository and provide a [link]() it in your report.**\n",
        "\n",
        "Use the rest of this section to explain your method file. Your explanation can be broken up into several components as shown below:\n"
      ]
    },
    {
      "cell_type": "markdown",
      "metadata": {
        "id": "CnTgFhHEGE_f",
        "colab_type": "text"
      },
      "source": [
        "### States\n",
        "Here, you should describe the function of each state in your method file, both in terms of its overall purpose and also in terms of the details that make it distinct from other states. For example:\n",
        "\n",
        " - **OFF**: Resting state of ProCoDA. All sensors, relays, and pumps are turned off.\n"
      ]
    },
    {
      "cell_type": "markdown",
      "metadata": {
        "id": "Ks6ALZO2GH_E",
        "colab_type": "text"
      },
      "source": [
        "### Set Points\n",
        "Here, you should list the set points used in your method file and explain their use as well as how each was calculated.\n"
      ]
    },
    {
      "cell_type": "markdown",
      "metadata": {
        "id": "LaELphDxGIE-",
        "colab_type": "text"
      },
      "source": [
        "## Python Code\n",
        "\n",
        "In this section, provide any code that was a significant part of your research, including in making theoretical calculations, determining parameters for your apparatus and your experiment, or analyzing your data.\n",
        "\n",
        "If your code is repetitive (e.g. similar code for creating different graphs) or too long, you may instead provide a [link to a file](https://github.com/AguaClara/team_resources/blob/master/Example%20Code/Data%20Analysis.md) with your code that has been *uploaded to your repository*."
      ]
    },
    {
      "cell_type": "markdown",
      "metadata": {
        "id": "C5W2FeWgRt5r",
        "colab_type": "text"
      },
      "source": [
        ""
      ]
    },
    {
      "cell_type": "code",
      "metadata": {
        "id": "Cq2qbVl1GpO3",
        "colab_type": "code",
        "colab": {}
      },
      "source": [
        "!pip install aguaclara"
      ],
      "execution_count": 0,
      "outputs": []
    },
    {
      "cell_type": "markdown",
      "metadata": {
        "id": "iOrk7vq6RumC",
        "colab_type": "text"
      },
      "source": [
        "### Turbidity Experiment Analysis\n",
        "The following code shows data that plots turbidity vs. time for a turbidity experiment."
      ]
    },
    {
      "cell_type": "code",
      "metadata": {
        "id": "eEpWjBkIGjOa",
        "colab_type": "code",
        "outputId": "2efb27c4-b317-412f-ca80-e12c1a197da7",
        "colab": {
          "base_uri": "https://localhost:8080/",
          "height": 232
        }
      },
      "source": [
        "import aguaclara.research.procoda_parser as pp\n",
        "import scipy.stats as stats\n",
        "import pandas as pd\n",
        "import numpy as np\n",
        "import scipy as sp\n",
        "import scipy.optimize as opt\n",
        "from aguaclara.play import *\n",
        "\n",
        "#Import the datalog\n",
        "turbidityexp1027 = \"https://raw.githubusercontent.com/AguaClara/Fluoride-Auto/master/Fall%202019/Data%20and%20Analysis/datalog%2010-27-2019%20edited.csv\"\n",
        "\n",
        "#Read the data and remove textlog notes\n",
        "data_raw = pd.read_csv(turbidityexp1027, delimiter=\",\")\n",
        "data = pp.remove_notes(data_raw)\n",
        "time = pd.to_numeric(data.iloc[2:4789,2])/60\n",
        "turbidity = pd.to_numeric(data.iloc[2:4789,5])\n",
        "\n",
        "turbexp, ax1 = plt.subplots()\n",
        "ax1.set_xlabel(\"Time (minutes)\")\n",
        "ax1.set_ylabel(\"Effluent Turbidity (NTU)\")\n",
        "ax1.set_xlim(0,80)\n",
        "ax1.set_ylim(0,25)\n",
        "turbidity_plot, = ax1.plot(time, turbidity, color=\"blue\")\n",
        "\n",
        "plt.suptitle('Turbidity at Varying PACl Dosages 10/27/19', fontsize=16)"
      ],
      "execution_count": 0,
      "outputs": [
        {
          "output_type": "error",
          "ename": "NameError",
          "evalue": "ignored",
          "traceback": [
            "\u001b[0;31m---------------------------------------------------------------------------\u001b[0m",
            "\u001b[0;31mNameError\u001b[0m                                 Traceback (most recent call last)",
            "\u001b[0;32m<ipython-input-1-9bb7b73ca36f>\u001b[0m in \u001b[0;36m<module>\u001b[0;34m()\u001b[0m\n\u001b[1;32m      2\u001b[0m \u001b[0;34m\u001b[0m\u001b[0m\n\u001b[1;32m      3\u001b[0m \u001b[0;31m#Read the data and remove textlog notes\u001b[0m\u001b[0;34m\u001b[0m\u001b[0;34m\u001b[0m\u001b[0;34m\u001b[0m\u001b[0m\n\u001b[0;32m----> 4\u001b[0;31m \u001b[0mdata_raw\u001b[0m \u001b[0;34m=\u001b[0m \u001b[0mpd\u001b[0m\u001b[0;34m.\u001b[0m\u001b[0mread_csv\u001b[0m\u001b[0;34m(\u001b[0m\u001b[0mturbidityexp1027\u001b[0m\u001b[0;34m,\u001b[0m \u001b[0mdelimiter\u001b[0m\u001b[0;34m=\u001b[0m\u001b[0;34m\",\"\u001b[0m\u001b[0;34m)\u001b[0m\u001b[0;34m\u001b[0m\u001b[0;34m\u001b[0m\u001b[0m\n\u001b[0m\u001b[1;32m      5\u001b[0m \u001b[0mdata\u001b[0m \u001b[0;34m=\u001b[0m \u001b[0mpp\u001b[0m\u001b[0;34m.\u001b[0m\u001b[0mremove_notes\u001b[0m\u001b[0;34m(\u001b[0m\u001b[0mdata_raw\u001b[0m\u001b[0;34m)\u001b[0m\u001b[0;34m\u001b[0m\u001b[0;34m\u001b[0m\u001b[0m\n\u001b[1;32m      6\u001b[0m \u001b[0mtime\u001b[0m \u001b[0;34m=\u001b[0m \u001b[0mpd\u001b[0m\u001b[0;34m.\u001b[0m\u001b[0mto_numeric\u001b[0m\u001b[0;34m(\u001b[0m\u001b[0mdata\u001b[0m\u001b[0;34m.\u001b[0m\u001b[0miloc\u001b[0m\u001b[0;34m[\u001b[0m\u001b[0;36m2\u001b[0m\u001b[0;34m:\u001b[0m\u001b[0;36m4789\u001b[0m\u001b[0;34m,\u001b[0m\u001b[0;36m2\u001b[0m\u001b[0;34m]\u001b[0m\u001b[0;34m)\u001b[0m\u001b[0;34m/\u001b[0m\u001b[0;36m60\u001b[0m\u001b[0;34m\u001b[0m\u001b[0;34m\u001b[0m\u001b[0m\n",
            "\u001b[0;31mNameError\u001b[0m: name 'pd' is not defined"
          ]
        }
      ]
    },
    {
      "cell_type": "markdown",
      "metadata": {
        "id": "2vIiWASQGvuA",
        "colab_type": "text"
      },
      "source": [
        "### Code for Experimental Design\n",
        "\n",
        "Make sure variables in your code, as well as anything that might not be easily understood by a newcomer, is well commented. Also include the outputs of your code, if applicable and not given earlier in the report.\n"
      ]
    },
    {
      "cell_type": "code",
      "metadata": {
        "id": "cVnPr9RyG7lf",
        "colab_type": "code",
        "colab": {}
      },
      "source": [
        "import aguaclara.research.peristaltic_pump as pp\n",
        "import aguaclara.research.stock_qc as stock_qc\n",
        "from aguaclara.core.units import unit_registry as u\n",
        "\n",
        "# volume per revolution flowing from the pump for PACl (coagulant) stock\n",
        "vol_per_rev_PACl = pp.vol_per_rev_3_stop(\"yellow-blue\")\n",
        "# revolutions per minute of PACl stock pump\n",
        "rpm_PACl = 3 * u.rev/u.min\n",
        "# flow rate from the PACl stock pump\n",
        "Q_PACl = pp.flow_rate(vol_per_rev_PACl, rpm_PACl)\n",
        "\n",
        "\n",
        "# desired system flow rate\n",
        "Q_sys = 2 * u.mL/u.s\n",
        "# desired system concentration of PACl\n",
        "C_sys = 1.4 * u.mg/u.L\n",
        "# a variable representing the reactor and its parameters\n",
        "reactor = stock_qc.Variable_C_Stock(Q_sys, C_sys, Q_PACl)\n",
        "\n",
        "\n",
        "# required concentration of PACl stock\n",
        "C_stock_PACl = reactor.C_stock()\n",
        "# concentration of purchased PACl super stock in lab\n",
        "C_super_PACl = 70.28 * u.g/u.L\n",
        "# dilution factor of PACl super stock necessary to achieve PACl stock\n",
        "# concentration (in L of super stock per L water)\n",
        "dilution = reactor.dilution_factor(C_super_PACl)\n",
        "mL_per_L = dilution * 1000\n",
        "\n",
        "print(\"A reactor with a system flow rate of\", Q_sys, \",\")\n",
        "print(\"a system PACl concentration of\", C_sys, \",\")\n",
        "print(\"and a PACl stock flow rate of\", Q_PACl)\n",
        "print(\"will require a dilution factor of\", round(mL_per_L.magnitude, 3),\n",
        "  \"milliliters of PACl super\")\n",
        "print(\"stock per liter of water for the PACl stock.\")"
      ],
      "execution_count": 0,
      "outputs": []
    }
  ]
}